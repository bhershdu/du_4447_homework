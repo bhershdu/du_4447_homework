{
 "cells": [
  {
   "cell_type": "markdown",
   "metadata": {},
   "source": [
    "# Total points 8"
   ]
  },
  {
   "cell_type": "markdown",
   "metadata": {},
   "source": [
    "# In  the homework\n",
    "- We'll collect climate change related tweet from twitter using REST API\n",
    "- Use tweets to populate Pandas DataFrames\n",
    "- Perform some elementary pandas operation to check data sanity\n",
    "\n",
    "\n",
    "**Please read**\n",
    "\n",
    "- https://developer.twitter.com/en/developer-terms/more-on-restricted-use-cases\n"
   ]
  },
  {
   "cell_type": "markdown",
   "metadata": {},
   "source": [
    "Before proceeding with homework.\n",
    "\n",
    "<font size=\"6\" color='red'> Create new app at https://apps.twitter.com/app/new  (You may have to create twitter account before this) </font>\n",
    "\n",
    "\n",
    "\n"
   ]
  },
  {
   "cell_type": "markdown",
   "metadata": {},
   "source": [
    "[twitter api reference index](https://developer.twitter.com/en/docs/api-reference-index)\n",
    "\n",
    "\n",
    "# POST oauth2/token\n",
    "Allows a registered application to obtain an OAuth 2 Bearer Token, which can be used to make API requests on an application's own behalf, without a user context.\n",
    "https://developer.twitter.com/en/docs/basics/authentication/api-reference/token\n"
   ]
  },
  {
   "cell_type": "markdown",
   "metadata": {},
   "source": [
    "Once you have create app, click on app details and keys and token tab\n",
    "\n",
    "<font size=\"6\" color='red'> write API key value for client_key and API secret key value for client_secret in the next cell</font>"
   ]
  },
  {
   "cell_type": "code",
   "execution_count": 5,
   "metadata": {},
   "outputs": [],
   "source": [
    "client_key = \"SjJ1AVttBX9DLEDTGPS1xaxCC\"\n",
    "client_secret = \"iMe9fK5YweWMxyI7OqeXLEAAaQcWjBjWKWGhRvTQEnLJOGZyVq\""
   ]
  },
  {
   "cell_type": "code",
   "execution_count": 6,
   "metadata": {},
   "outputs": [],
   "source": [
    "import requests\n",
    "import base64\n",
    "\n",
    "key_secret = '{}:{}'.format(client_key, client_secret).encode('ascii')\n",
    "b64_encoded_key = base64.b64encode(key_secret)\n",
    "b64_encoded_key = b64_encoded_key.decode('ascii')"
   ]
  },
  {
   "cell_type": "code",
   "execution_count": 7,
   "metadata": {},
   "outputs": [],
   "source": [
    "base_url = 'https://api.twitter.com/'\n",
    "auth_endpoint = base_url+'oauth2/token'\n",
    "\n",
    "auth_headers = { 'Authorization': 'Basic {}'.format(b64_encoded_key),\n",
    "                'Content-Type': 'application/x-www-form-urlencoded;charset=UTF-8'}\n",
    "\n",
    "auth_data = { 'grant_type': 'client_credentials'}\n",
    "\n"
   ]
  },
  {
   "cell_type": "markdown",
   "metadata": {},
   "source": [
    "Let's post to authentication endpoint and get the token to be used in subsequent REST API call"
   ]
  },
  {
   "cell_type": "code",
   "execution_count": 8,
   "metadata": {},
   "outputs": [
    {
     "data": {
      "text/plain": "200"
     },
     "execution_count": 8,
     "metadata": {},
     "output_type": "execute_result"
    }
   ],
   "source": [
    "response = requests.post(auth_endpoint, headers=auth_headers, data=auth_data)\n",
    "response.status_code"
   ]
  },
  {
   "cell_type": "code",
   "execution_count": 9,
   "metadata": {},
   "outputs": [
    {
     "data": {
      "text/plain": "{'token_type': 'bearer',\n 'access_token': 'AAAAAAAAAAAAAAAAAAAAAB6MegEAAAAAELAHQLkbwYGYFLLCZcvnmPGHL8U%3DRgitE4Vpk7yjFGT4RZ6tZ7Kjry8qolUK4w4zbdvrQAtIQhj0V8'}"
     },
     "execution_count": 9,
     "metadata": {},
     "output_type": "execute_result"
    }
   ],
   "source": [
    "json_data =  response.json()\n",
    "json_data"
   ]
  },
  {
   "cell_type": "code",
   "execution_count": 10,
   "metadata": {},
   "outputs": [],
   "source": [
    "access_token = json_data['access_token']"
   ]
  },
  {
   "cell_type": "markdown",
   "metadata": {},
   "source": [
    "# Let's do some search on climate change\n",
    "This is how we got search endpoint\n",
    "\n",
    "https://developer.twitter.com/en/docs/tweets/search/api-reference/get-search-tweets"
   ]
  },
  {
   "cell_type": "code",
   "execution_count": 11,
   "metadata": {},
   "outputs": [],
   "source": [
    "max_tweets=100\n",
    "tw_limit=100# we can get only 100 tweet per call with standard search api\n",
    "tweets = []\n",
    "users =[]"
   ]
  },
  {
   "cell_type": "code",
   "execution_count": 12,
   "metadata": {},
   "outputs": [],
   "source": [
    "search_headers = {'Authorization': 'Bearer {}'.format(access_token)    \n",
    "}\n",
    "\n",
    "parameters = { 'query': 'climate change',\n",
    "                'max_results': 100,\n",
    "                'expansions' :'author_id,referenced_tweets.id',\n",
    "                'tweet.fields' : 'created_at,entities,source,in_reply_to_user_id,geo,lang,public_metrics,reply_settings,referenced_tweets,conversation_id',\n",
    "                'user.fields': 'created_at,description,entities,id,location,name,pinned_tweet_id,profile_image_url,protected,public_metrics,url,username,verified,withheld'}\n",
    "\n",
    "search_url = base_url+'2/tweets/search/recent'\n",
    "\n",
    "response = requests.get(search_url, headers=search_headers, params=parameters)"
   ]
  },
  {
   "cell_type": "code",
   "execution_count": 13,
   "metadata": {
    "scrolled": true
   },
   "outputs": [],
   "source": [
    "climate_tweets = response.json()\n"
   ]
  },
  {
   "cell_type": "code",
   "execution_count": 14,
   "metadata": {},
   "outputs": [
    {
     "data": {
      "text/plain": "100"
     },
     "execution_count": 14,
     "metadata": {},
     "output_type": "execute_result"
    }
   ],
   "source": [
    "len(climate_tweets['data'])"
   ]
  },
  {
   "cell_type": "code",
   "execution_count": 15,
   "metadata": {},
   "outputs": [],
   "source": [
    "tweets +=climate_tweets['data']\n"
   ]
  },
  {
   "cell_type": "code",
   "execution_count": 16,
   "metadata": {},
   "outputs": [],
   "source": [
    "\n",
    " ids = [tw['id'] for tw in climate_tweets['data']]\n",
    "    "
   ]
  },
  {
   "cell_type": "code",
   "execution_count": 17,
   "metadata": {},
   "outputs": [],
   "source": [
    "min_id = min(ids)"
   ]
  },
  {
   "cell_type": "code",
   "execution_count": 18,
   "metadata": {},
   "outputs": [],
   "source": [
    "tw_ids = []\n",
    "tw_ids+=ids"
   ]
  },
  {
   "cell_type": "markdown",
   "metadata": {},
   "source": [
    "As per twitter api documentation we can use\n",
    "\n",
    "until_id:Returns results with an ID less than (that is, older than) or equal to the specified ID.\n",
    "\n",
    "to get older tweets"
   ]
  },
  {
   "cell_type": "markdown",
   "metadata": {},
   "source": [
    "# Q1 (.5 points) Modify only *parameters* dictionary in the following code so that subsequent call to climate change search returns older tweets with id less than minimum of previous tweets ids."
   ]
  },
  {
   "cell_type": "code",
   "execution_count": 19,
   "metadata": {},
   "outputs": [],
   "source": [
    " parameters = { 'query': 'climate change',\n",
    "                'max_results': tw_limit,\n",
    "                'expansions' :'author_id,referenced_tweets.id',\n",
    "                'tweet.fields' : 'created_at,entities,source,in_reply_to_user_id,geo,lang,public_metrics,reply_settings,referenced_tweets,conversation_id',\n",
    "                'user.fields': 'created_at,description,entities,id,location,name,pinned_tweet_id,profile_image_url,protected,public_metrics,url,username,verified,withheld',\n",
    "                \"since_id\": min_id\n",
    "                 }\n",
    "\n",
    "for  i in range(max_tweets//tw_limit -1):\n",
    "    print(\"searching tweets with id  < {}\".format(min_id))\n",
    "    search_url = base_url+'2/tweets/search/recent'\n",
    "    response = requests.get(search_url, headers=search_headers, params=parameters)\n",
    "    climate_tweets = response.json()\n",
    "    ids = [tw['id'] for tw in climate_tweets['statuses']]\n",
    "    tw_ids+=ids\n",
    "    print(i, len(climate_tweets['data']))\n",
    "    min_id = min(ids)\n",
    "    tweets +=climate_tweets['data']\n",
    "    users.extend(climate_tweets['includes']['users'])\n",
    "    if 'next_token' in response.json()['meta']:\n",
    "\t\t\t\t\tparameters['next_token'] = response.json()['meta']['next_token']"
   ]
  },
  {
   "cell_type": "code",
   "execution_count": 20,
   "metadata": {},
   "outputs": [
    {
     "name": "stdout",
     "output_type": "stream",
     "text": [
      "Total tweets retrieved= 100\n"
     ]
    }
   ],
   "source": [
    "print('Total tweets retrieved= {}'.format(len(tweets)))"
   ]
  },
  {
   "cell_type": "markdown",
   "metadata": {},
   "source": [
    "# Let's print some tweets"
   ]
  },
  {
   "cell_type": "code",
   "execution_count": 21,
   "metadata": {},
   "outputs": [],
   "source": [
    "import pprint #pretty-print” arbitrary Python data structures. Tweets object has hierarchical struture\n",
    "max_tweet_to_print=4"
   ]
  },
  {
   "cell_type": "code",
   "execution_count": 22,
   "metadata": {},
   "outputs": [
    {
     "name": "stdout",
     "output_type": "stream",
     "text": [
      "[{'author_id': '1489372213102972932',\n",
      "  'conversation_id': '1551299627974103041',\n",
      "  'created_at': '2022-07-24T20:13:47.000Z',\n",
      "  'entities': {'mentions': [{'end': 16,\n",
      "                             'id': '707231479047315456',\n",
      "                             'start': 3,\n",
      "                             'username': 'PeterSweden7'}]},\n",
      "  'id': '1551299627974103041',\n",
      "  'lang': 'en',\n",
      "  'public_metrics': {'like_count': 0,\n",
      "                     'quote_count': 0,\n",
      "                     'reply_count': 0,\n",
      "                     'retweet_count': 369},\n",
      "  'referenced_tweets': [{'id': '1551292683376660480', 'type': 'retweeted'}],\n",
      "  'reply_settings': 'everyone',\n",
      "  'source': 'Twitter for iPhone',\n",
      "  'text': 'RT @PeterSweden7: The same people telling you to eat bugs are '\n",
      "          'themselves dining on finest meat.\\n'\n",
      "          '\\n'\n",
      "          'The same people telling you to get rid of…'},\n",
      " {'author_id': '463325504',\n",
      "  'conversation_id': '1551299627571462145',\n",
      "  'created_at': '2022-07-24T20:13:47.000Z',\n",
      "  'entities': {'annotations': [{'end': 48,\n",
      "                                'normalized_text': 'Kevin McCarthy',\n",
      "                                'probability': 0.9745,\n",
      "                                'start': 35,\n",
      "                                'type': 'Person'},\n",
      "                               {'end': 87,\n",
      "                                'normalized_text': 'Joe Biden',\n",
      "                                'probability': 0.6566,\n",
      "                                'start': 79,\n",
      "                                'type': 'Person'}],\n",
      "               'mentions': [{'end': 11,\n",
      "                             'id': '20545835',\n",
      "                             'start': 3,\n",
      "                             'username': 'newsmax'}]},\n",
      "  'id': '1551299627571462145',\n",
      "  'lang': 'en',\n",
      "  'public_metrics': {'like_count': 0,\n",
      "                     'quote_count': 0,\n",
      "                     'reply_count': 0,\n",
      "                     'retweet_count': 50},\n",
      "  'referenced_tweets': [{'id': '1551292388601057280', 'type': 'retweeted'}],\n",
      "  'reply_settings': 'everyone',\n",
      "  'source': 'Twitter for Android',\n",
      "  'text': 'RT @newsmax: House Minority Leader Kevin McCarthy rejected calls '\n",
      "          'for President Joe Biden to declare a climate change emergency.  '\n",
      "          'https://t.…'},\n",
      " {'author_id': '3366336160',\n",
      "  'conversation_id': '1551299627189768193',\n",
      "  'created_at': '2022-07-24T20:13:47.000Z',\n",
      "  'entities': {'mentions': [{'end': 18,\n",
      "                             'id': '400773433',\n",
      "                             'start': 3,\n",
      "                             'username': 'AnnaWilliams41'},\n",
      "                            {'end': 32,\n",
      "                             'id': '1361142865728954370',\n",
      "                             'start': 20,\n",
      "                             'username': 'TrophyXpose'},\n",
      "                            {'end': 48,\n",
      "                             'id': '47655467',\n",
      "                             'start': 33,\n",
      "                             'username': 'SafariClubIntl'},\n",
      "                            {'end': 60,\n",
      "                             'id': '35472060',\n",
      "                             'start': 49,\n",
      "                             'username': 'tarastrong'},\n",
      "                            {'end': 76,\n",
      "                             'id': '545416888',\n",
      "                             'start': 61,\n",
      "                             'username': 'AgainstHunting'},\n",
      "                            {'end': 90,\n",
      "                             'id': '942826806192861185',\n",
      "                             'start': 77,\n",
      "                             'username': 'SARA2001NOOR'},\n",
      "                            {'end': 103,\n",
      "                             'id': '937937995',\n",
      "                             'start': 91,\n",
      "                             'username': 'Angelux1111'},\n",
      "                            {'end': 114,\n",
      "                             'id': '3366336160',\n",
      "                             'start': 104,\n",
      "                             'username': 'ladydobe1'},\n",
      "                            {'end': 122,\n",
      "                             'id': '1080196918351970305',\n",
      "                             'start': 115,\n",
      "                             'username': 'Lin11W'},\n",
      "                            {'end': 139,\n",
      "                             'id': '2292488509',\n",
      "                             'start': 123,\n",
      "                             'username': 'Protect_Wldlife'}]},\n",
      "  'id': '1551299627189768193',\n",
      "  'lang': 'en',\n",
      "  'public_metrics': {'like_count': 0,\n",
      "                     'quote_count': 0,\n",
      "                     'reply_count': 0,\n",
      "                     'retweet_count': 2},\n",
      "  'referenced_tweets': [{'id': '1551211702120841222', 'type': 'retweeted'}],\n",
      "  'reply_settings': 'everyone',\n",
      "  'source': 'Twitter for Android',\n",
      "  'text': 'RT @AnnaWilliams41: @TrophyXpose @SafariClubIntl @tarastrong '\n",
      "          '@AgainstHunting @SARA2001NOOR @Angelux1111 @ladydobe1 @Lin11W '\n",
      "          '@Protect_Wldlife…'},\n",
      " {'author_id': '1408706413984108544',\n",
      "  'conversation_id': '1551159256103141376',\n",
      "  'created_at': '2022-07-24T20:13:47.000Z',\n",
      "  'entities': {'annotations': [{'end': 45,\n",
      "                                'normalized_text': 'Ukraine',\n",
      "                                'probability': 0.9876,\n",
      "                                'start': 39,\n",
      "                                'type': 'Place'},\n",
      "                               {'end': 166,\n",
      "                                'normalized_text': 'Russia',\n",
      "                                'probability': 0.9883,\n",
      "                                'start': 161,\n",
      "                                'type': 'Place'},\n",
      "                               {'end': 174,\n",
      "                                'normalized_text': 'US',\n",
      "                                'probability': 0.9272,\n",
      "                                'start': 173,\n",
      "                                'type': 'Place'}],\n",
      "               'mentions': [{'end': 4,\n",
      "                             'id': '11134252',\n",
      "                             'start': 0,\n",
      "                             'username': 'GOP'}]},\n",
      "  'id': '1551299626598387713',\n",
      "  'in_reply_to_user_id': '11134252',\n",
      "  'lang': 'en',\n",
      "  'public_metrics': {'like_count': 0,\n",
      "                     'quote_count': 0,\n",
      "                     'reply_count': 0,\n",
      "                     'retweet_count': 0},\n",
      "  'referenced_tweets': [{'id': '1551159256103141376', 'type': 'replied_to'}],\n",
      "  'reply_settings': 'everyone',\n",
      "  'source': 'Twitter for iPhone',\n",
      "  'text': '@GOP Womens rights crisis? Threatening Ukraine crisis? Overthrowing '\n",
      "          'the government crisis? Bailing out of climate change crisis? Gay '\n",
      "          'marriage crisis? Supporting Russia over US crisis? Which one'}]\n"
     ]
    }
   ],
   "source": [
    "pprint.pprint(tweets[0:max_tweet_to_print])"
   ]
  },
  {
   "cell_type": "markdown",
   "metadata": {},
   "source": [
    "Link to understand [tweet-object](https://developer.twitter.com/en/docs/tweets/data-dictionary/overview/tweet-object)\n",
    "\n",
    "Let'see some tweets"
   ]
  },
  {
   "cell_type": "code",
   "execution_count": 23,
   "metadata": {},
   "outputs": [
    {
     "name": "stdout",
     "output_type": "stream",
     "text": [
      "RT @PeterSweden7: The same people telling you to eat bugs are themselves dining on finest meat.\n",
      "\n",
      "The same people telling you to get rid of…\n",
      "\n",
      "RT @newsmax: House Minority Leader Kevin McCarthy rejected calls for President Joe Biden to declare a climate change emergency.  https://t.…\n",
      "\n",
      "RT @AnnaWilliams41: @TrophyXpose @SafariClubIntl @tarastrong @AgainstHunting @SARA2001NOOR @Angelux1111 @ladydobe1 @Lin11W @Protect_Wldlife…\n",
      "\n",
      "@GOP Womens rights crisis? Threatening Ukraine crisis? Overthrowing the government crisis? Bailing out of climate change crisis? Gay marriage crisis? Supporting Russia over US crisis? Which one\n",
      "\n"
     ]
    }
   ],
   "source": [
    "for status in tweets[0:max_tweet_to_print]:\n",
    "    print(status['text'] + '\\n')"
   ]
  },
  {
   "cell_type": "markdown",
   "metadata": {},
   "source": [
    "# Pandas DataFrame for storing tweet feed\n",
    "\n",
    "Create following date frame for storing tweets\n",
    "\n",
    "- **climate_feed_df** DataFrame for storing tweet\n",
    "- **user_df** DataFrame for storing user detail\n",
    "- **retweeted_status_df** for storing original tweet"
   ]
  },
  {
   "cell_type": "markdown",
   "metadata": {},
   "source": [
    "# Printing keys in tweets"
   ]
  },
  {
   "cell_type": "code",
   "execution_count": 24,
   "metadata": {},
   "outputs": [
    {
     "name": "stdout",
     "output_type": "stream",
     "text": [
      "dict_keys(['entities', 'public_metrics', 'id', 'lang', 'referenced_tweets', 'source', 'created_at', 'conversation_id', 'author_id', 'text', 'reply_settings'])\n",
      "11\n"
     ]
    }
   ],
   "source": [
    "print(tweets[1].keys())\n",
    "print(len(tweets[1].keys()))\n"
   ]
  },
  {
   "cell_type": "code",
   "execution_count": 25,
   "metadata": {},
   "outputs": [],
   "source": [
    "import pandas as pd\n",
    "import copy"
   ]
  },
  {
   "cell_type": "markdown",
   "metadata": {},
   "source": [
    "# Generators for building DataFrames"
   ]
  },
  {
   "cell_type": "markdown",
   "metadata": {},
   "source": [
    "# Q2 (2 point) Complete following   python generator *tweet_generator*. Generator yield modified tweet .\n",
    "For each tweet in tweets\n",
    "- Replace **author_id** attribute with **user_id**.\n",
    "- Replace **referenced_tweets** attribute with **referenced_tweets_ids** and value(s) with **tweet['referenced_tweets']['id']** value(s).\n",
    "- Keep other attributes in the tweet as such."
   ]
  },
  {
   "cell_type": "code",
   "execution_count": 100,
   "metadata": {},
   "outputs": [],
   "source": [
    "def tweet_generator(tweets):\n",
    "    for tweet in tweets:\n",
    "        modified_tweet= copy.deepcopy(tweet)\n",
    "        # remove author_id and store the value in user_id\n",
    "        modified_tweet[\"user_id\"] = modified_tweet.pop(\"author_id\")\n",
    "        if \"referenced_tweets\" in modified_tweet:\n",
    "            referenced_tweets = modified_tweet.pop(\"referenced_tweets\")\n",
    "        else:\n",
    "            referenced_tweets = []\n",
    "        modified_tweet[\"referenced_tweets_ids\"] = list(map(lambda x: x['id'], referenced_tweets))\n",
    "        if \"public_metrics\" in modified_tweet and \"retweet_count\" in  modified_tweet[\"public_metrics\"]:\n",
    "            modified_tweet[\"retweet_count\"] = modified_tweet[\"public_metrics\"][\"retweet_count\"]\n",
    "        else:\n",
    "            modified_tweet[\"retweet_count\"] = len(modified_tweet[\"referenced_tweets_ids\"])\n",
    "        #Write your code here\n",
    "        \n",
    "        \n",
    "        yield modified_tweet       \n",
    "            \n",
    "            "
   ]
  },
  {
   "cell_type": "code",
   "execution_count": 35,
   "metadata": {},
   "outputs": [],
   "source": [
    "#def tweet_generator(tweets):\n",
    "#    for tweet in tweets:\n",
    "#        try:\n",
    "#            modified_tweet = copy.deepcopy(tweet)\n",
    "#            modified_tweet['user_id'] = modified_tweet.pop('author_id')\n",
    "#            modified_tweet['referenced_tweets_ids'] = modified_tweet['referenced_tweets'][0]['id']\n",
    "#            modified_tweet['retweet_count'] = modified_tweet['public_metrics']['retweet_count']\n",
    "#            yield modified_tweet\n",
    "#        except KeyError as e:\n",
    "#            continue"
   ]
  },
  {
   "cell_type": "code",
   "execution_count": 101,
   "metadata": {},
   "outputs": [
    {
     "data": {
      "text/plain": "[{'public_metrics': {'retweet_count': 369,\n   'reply_count': 0,\n   'like_count': 0,\n   'quote_count': 0},\n  'id': '1551299627974103041',\n  'lang': 'en',\n  'source': 'Twitter for iPhone',\n  'created_at': '2022-07-24T20:13:47.000Z',\n  'entities': {'mentions': [{'start': 3,\n     'end': 16,\n     'username': 'PeterSweden7',\n     'id': '707231479047315456'}]},\n  'conversation_id': '1551299627974103041',\n  'text': 'RT @PeterSweden7: The same people telling you to eat bugs are themselves dining on finest meat.\\n\\nThe same people telling you to get rid of…',\n  'reply_settings': 'everyone',\n  'user_id': '1489372213102972932',\n  'referenced_tweets_ids': ['1551292683376660480'],\n  'retweet_count': 369},\n {'entities': {'annotations': [{'start': 35,\n     'end': 48,\n     'probability': 0.9745,\n     'type': 'Person',\n     'normalized_text': 'Kevin McCarthy'},\n    {'start': 79,\n     'end': 87,\n     'probability': 0.6566,\n     'type': 'Person',\n     'normalized_text': 'Joe Biden'}],\n   'mentions': [{'start': 3,\n     'end': 11,\n     'username': 'newsmax',\n     'id': '20545835'}]},\n  'public_metrics': {'retweet_count': 50,\n   'reply_count': 0,\n   'like_count': 0,\n   'quote_count': 0},\n  'id': '1551299627571462145',\n  'lang': 'en',\n  'source': 'Twitter for Android',\n  'created_at': '2022-07-24T20:13:47.000Z',\n  'conversation_id': '1551299627571462145',\n  'text': 'RT @newsmax: House Minority Leader Kevin McCarthy rejected calls for President Joe Biden to declare a climate change emergency.  https://t.…',\n  'reply_settings': 'everyone',\n  'user_id': '463325504',\n  'referenced_tweets_ids': ['1551292388601057280'],\n  'retweet_count': 50}]"
     },
     "execution_count": 101,
     "metadata": {},
     "output_type": "execute_result"
    }
   ],
   "source": [
    "# Checking  generator output\n",
    "list(tweet_generator(tweets[0:2]))"
   ]
  },
  {
   "cell_type": "code",
   "execution_count": 102,
   "metadata": {},
   "outputs": [],
   "source": [
    "climate_feed_df = pd.DataFrame(tweet_generator(tweets))"
   ]
  },
  {
   "cell_type": "code",
   "execution_count": 103,
   "metadata": {},
   "outputs": [
    {
     "data": {
      "text/plain": "                                       public_metrics                   id  \\\n0   {'retweet_count': 369, 'reply_count': 0, 'like...  1551299627974103041   \n1   {'retweet_count': 50, 'reply_count': 0, 'like_...  1551299627571462145   \n2   {'retweet_count': 2, 'reply_count': 0, 'like_c...  1551299627189768193   \n3   {'retweet_count': 0, 'reply_count': 0, 'like_c...  1551299626598387713   \n4   {'retweet_count': 655, 'reply_count': 0, 'like...  1551299622026354690   \n..                                                ...                  ...   \n95  {'retweet_count': 0, 'reply_count': 0, 'like_c...  1551299364508897280   \n96  {'retweet_count': 369, 'reply_count': 0, 'like...  1551299364362010624   \n97  {'retweet_count': 0, 'reply_count': 0, 'like_c...  1551299362860531721   \n98  {'retweet_count': 369, 'reply_count': 0, 'like...  1551299358976577539   \n99  {'retweet_count': 10, 'reply_count': 0, 'like_...  1551299347886776323   \n\n   lang               source                created_at  \\\n0    en   Twitter for iPhone  2022-07-24T20:13:47.000Z   \n1    en  Twitter for Android  2022-07-24T20:13:47.000Z   \n2    en  Twitter for Android  2022-07-24T20:13:47.000Z   \n3    en   Twitter for iPhone  2022-07-24T20:13:47.000Z   \n4    en   Twitter for iPhone  2022-07-24T20:13:46.000Z   \n..  ...                  ...                       ...   \n95   en  Twitter for Android  2022-07-24T20:12:44.000Z   \n96   en   Twitter for iPhone  2022-07-24T20:12:44.000Z   \n97   en      Twitter Web App  2022-07-24T20:12:44.000Z   \n98   en  Twitter for Android  2022-07-24T20:12:43.000Z   \n99   en  Twitter for Android  2022-07-24T20:12:40.000Z   \n\n                                             entities      conversation_id  \\\n0   {'mentions': [{'start': 3, 'end': 16, 'usernam...  1551299627974103041   \n1   {'annotations': [{'start': 35, 'end': 48, 'pro...  1551299627571462145   \n2   {'mentions': [{'start': 3, 'end': 18, 'usernam...  1551299627189768193   \n3   {'annotations': [{'start': 39, 'end': 45, 'pro...  1551159256103141376   \n4   {'annotations': [{'start': 20, 'end': 22, 'pro...  1551299622026354690   \n..                                                ...                  ...   \n95  {'urls': [{'start': 188, 'end': 211, 'url': 'h...  1551299364508897280   \n96  {'mentions': [{'start': 3, 'end': 16, 'usernam...  1551299364362010624   \n97  {'mentions': [{'start': 0, 'end': 11, 'usernam...  1550986861987913728   \n98  {'mentions': [{'start': 3, 'end': 16, 'usernam...  1551299358976577539   \n99  {'mentions': [{'start': 3, 'end': 16, 'usernam...  1551299347886776323   \n\n                                                 text reply_settings  \\\n0   RT @PeterSweden7: The same people telling you ...       everyone   \n1   RT @newsmax: House Minority Leader Kevin McCar...       everyone   \n2   RT @AnnaWilliams41: @TrophyXpose @SafariClubIn...       everyone   \n3   @GOP Womens rights crisis? Threatening Ukraine...       everyone   \n4   RT @jayrosen_nyu: A BBC story about \"The audac...       everyone   \n..                                                ...            ...   \n95  Climate change learn what real scientists have...       everyone   \n96  RT @PeterSweden7: The same people telling you ...       everyone   \n97  @kotosquito @sotnasoinotna And more. Too many ...       everyone   \n98  RT @PeterSweden7: The same people telling you ...       everyone   \n99  RT @Brummie_Girl: @RishiSunak Give them a safe...       everyone   \n\n                user_id  referenced_tweets_ids  retweet_count  \\\n0   1489372213102972932  [1551292683376660480]            369   \n1             463325504  [1551292388601057280]             50   \n2            3366336160  [1551211702120841222]              2   \n3   1408706413984108544  [1551159256103141376]              0   \n4             141977378  [1551221968258895873]            655   \n..                  ...                    ...            ...   \n95             95025717                     []              0   \n96           3176841441  [1551292683376660480]            369   \n97  1463278009247354882  [1551296034449637377]              0   \n98   824036799140036609  [1551292683376660480]            369   \n99  1099310568941502465  [1551147787575861248]             10   \n\n   in_reply_to_user_id withheld  \n0                  NaN      NaN  \n1                  NaN      NaN  \n2                  NaN      NaN  \n3             11134252      NaN  \n4                  NaN      NaN  \n..                 ...      ...  \n95                 NaN      NaN  \n96                 NaN      NaN  \n97  836576099370995712      NaN  \n98                 NaN      NaN  \n99                 NaN      NaN  \n\n[100 rows x 14 columns]",
      "text/html": "<div>\n<style scoped>\n    .dataframe tbody tr th:only-of-type {\n        vertical-align: middle;\n    }\n\n    .dataframe tbody tr th {\n        vertical-align: top;\n    }\n\n    .dataframe thead th {\n        text-align: right;\n    }\n</style>\n<table border=\"1\" class=\"dataframe\">\n  <thead>\n    <tr style=\"text-align: right;\">\n      <th></th>\n      <th>public_metrics</th>\n      <th>id</th>\n      <th>lang</th>\n      <th>source</th>\n      <th>created_at</th>\n      <th>entities</th>\n      <th>conversation_id</th>\n      <th>text</th>\n      <th>reply_settings</th>\n      <th>user_id</th>\n      <th>referenced_tweets_ids</th>\n      <th>retweet_count</th>\n      <th>in_reply_to_user_id</th>\n      <th>withheld</th>\n    </tr>\n  </thead>\n  <tbody>\n    <tr>\n      <th>0</th>\n      <td>{'retweet_count': 369, 'reply_count': 0, 'like...</td>\n      <td>1551299627974103041</td>\n      <td>en</td>\n      <td>Twitter for iPhone</td>\n      <td>2022-07-24T20:13:47.000Z</td>\n      <td>{'mentions': [{'start': 3, 'end': 16, 'usernam...</td>\n      <td>1551299627974103041</td>\n      <td>RT @PeterSweden7: The same people telling you ...</td>\n      <td>everyone</td>\n      <td>1489372213102972932</td>\n      <td>[1551292683376660480]</td>\n      <td>369</td>\n      <td>NaN</td>\n      <td>NaN</td>\n    </tr>\n    <tr>\n      <th>1</th>\n      <td>{'retweet_count': 50, 'reply_count': 0, 'like_...</td>\n      <td>1551299627571462145</td>\n      <td>en</td>\n      <td>Twitter for Android</td>\n      <td>2022-07-24T20:13:47.000Z</td>\n      <td>{'annotations': [{'start': 35, 'end': 48, 'pro...</td>\n      <td>1551299627571462145</td>\n      <td>RT @newsmax: House Minority Leader Kevin McCar...</td>\n      <td>everyone</td>\n      <td>463325504</td>\n      <td>[1551292388601057280]</td>\n      <td>50</td>\n      <td>NaN</td>\n      <td>NaN</td>\n    </tr>\n    <tr>\n      <th>2</th>\n      <td>{'retweet_count': 2, 'reply_count': 0, 'like_c...</td>\n      <td>1551299627189768193</td>\n      <td>en</td>\n      <td>Twitter for Android</td>\n      <td>2022-07-24T20:13:47.000Z</td>\n      <td>{'mentions': [{'start': 3, 'end': 18, 'usernam...</td>\n      <td>1551299627189768193</td>\n      <td>RT @AnnaWilliams41: @TrophyXpose @SafariClubIn...</td>\n      <td>everyone</td>\n      <td>3366336160</td>\n      <td>[1551211702120841222]</td>\n      <td>2</td>\n      <td>NaN</td>\n      <td>NaN</td>\n    </tr>\n    <tr>\n      <th>3</th>\n      <td>{'retweet_count': 0, 'reply_count': 0, 'like_c...</td>\n      <td>1551299626598387713</td>\n      <td>en</td>\n      <td>Twitter for iPhone</td>\n      <td>2022-07-24T20:13:47.000Z</td>\n      <td>{'annotations': [{'start': 39, 'end': 45, 'pro...</td>\n      <td>1551159256103141376</td>\n      <td>@GOP Womens rights crisis? Threatening Ukraine...</td>\n      <td>everyone</td>\n      <td>1408706413984108544</td>\n      <td>[1551159256103141376]</td>\n      <td>0</td>\n      <td>11134252</td>\n      <td>NaN</td>\n    </tr>\n    <tr>\n      <th>4</th>\n      <td>{'retweet_count': 655, 'reply_count': 0, 'like...</td>\n      <td>1551299622026354690</td>\n      <td>en</td>\n      <td>Twitter for iPhone</td>\n      <td>2022-07-24T20:13:46.000Z</td>\n      <td>{'annotations': [{'start': 20, 'end': 22, 'pro...</td>\n      <td>1551299622026354690</td>\n      <td>RT @jayrosen_nyu: A BBC story about \"The audac...</td>\n      <td>everyone</td>\n      <td>141977378</td>\n      <td>[1551221968258895873]</td>\n      <td>655</td>\n      <td>NaN</td>\n      <td>NaN</td>\n    </tr>\n    <tr>\n      <th>...</th>\n      <td>...</td>\n      <td>...</td>\n      <td>...</td>\n      <td>...</td>\n      <td>...</td>\n      <td>...</td>\n      <td>...</td>\n      <td>...</td>\n      <td>...</td>\n      <td>...</td>\n      <td>...</td>\n      <td>...</td>\n      <td>...</td>\n      <td>...</td>\n    </tr>\n    <tr>\n      <th>95</th>\n      <td>{'retweet_count': 0, 'reply_count': 0, 'like_c...</td>\n      <td>1551299364508897280</td>\n      <td>en</td>\n      <td>Twitter for Android</td>\n      <td>2022-07-24T20:12:44.000Z</td>\n      <td>{'urls': [{'start': 188, 'end': 211, 'url': 'h...</td>\n      <td>1551299364508897280</td>\n      <td>Climate change learn what real scientists have...</td>\n      <td>everyone</td>\n      <td>95025717</td>\n      <td>[]</td>\n      <td>0</td>\n      <td>NaN</td>\n      <td>NaN</td>\n    </tr>\n    <tr>\n      <th>96</th>\n      <td>{'retweet_count': 369, 'reply_count': 0, 'like...</td>\n      <td>1551299364362010624</td>\n      <td>en</td>\n      <td>Twitter for iPhone</td>\n      <td>2022-07-24T20:12:44.000Z</td>\n      <td>{'mentions': [{'start': 3, 'end': 16, 'usernam...</td>\n      <td>1551299364362010624</td>\n      <td>RT @PeterSweden7: The same people telling you ...</td>\n      <td>everyone</td>\n      <td>3176841441</td>\n      <td>[1551292683376660480]</td>\n      <td>369</td>\n      <td>NaN</td>\n      <td>NaN</td>\n    </tr>\n    <tr>\n      <th>97</th>\n      <td>{'retweet_count': 0, 'reply_count': 0, 'like_c...</td>\n      <td>1551299362860531721</td>\n      <td>en</td>\n      <td>Twitter Web App</td>\n      <td>2022-07-24T20:12:44.000Z</td>\n      <td>{'mentions': [{'start': 0, 'end': 11, 'usernam...</td>\n      <td>1550986861987913728</td>\n      <td>@kotosquito @sotnasoinotna And more. Too many ...</td>\n      <td>everyone</td>\n      <td>1463278009247354882</td>\n      <td>[1551296034449637377]</td>\n      <td>0</td>\n      <td>836576099370995712</td>\n      <td>NaN</td>\n    </tr>\n    <tr>\n      <th>98</th>\n      <td>{'retweet_count': 369, 'reply_count': 0, 'like...</td>\n      <td>1551299358976577539</td>\n      <td>en</td>\n      <td>Twitter for Android</td>\n      <td>2022-07-24T20:12:43.000Z</td>\n      <td>{'mentions': [{'start': 3, 'end': 16, 'usernam...</td>\n      <td>1551299358976577539</td>\n      <td>RT @PeterSweden7: The same people telling you ...</td>\n      <td>everyone</td>\n      <td>824036799140036609</td>\n      <td>[1551292683376660480]</td>\n      <td>369</td>\n      <td>NaN</td>\n      <td>NaN</td>\n    </tr>\n    <tr>\n      <th>99</th>\n      <td>{'retweet_count': 10, 'reply_count': 0, 'like_...</td>\n      <td>1551299347886776323</td>\n      <td>en</td>\n      <td>Twitter for Android</td>\n      <td>2022-07-24T20:12:40.000Z</td>\n      <td>{'mentions': [{'start': 3, 'end': 16, 'usernam...</td>\n      <td>1551299347886776323</td>\n      <td>RT @Brummie_Girl: @RishiSunak Give them a safe...</td>\n      <td>everyone</td>\n      <td>1099310568941502465</td>\n      <td>[1551147787575861248]</td>\n      <td>10</td>\n      <td>NaN</td>\n      <td>NaN</td>\n    </tr>\n  </tbody>\n</table>\n<p>100 rows × 14 columns</p>\n</div>"
     },
     "execution_count": 103,
     "metadata": {},
     "output_type": "execute_result"
    }
   ],
   "source": [
    "climate_feed_df"
   ]
  },
  {
   "cell_type": "markdown",
   "metadata": {},
   "source": [
    "# Q3(1 points) List datatype using climate_feed_df. Describe which attributes doesn't have correct data types. What should be correct datatype?"
   ]
  },
  {
   "cell_type": "code",
   "execution_count": 104,
   "metadata": {},
   "outputs": [
    {
     "data": {
      "text/plain": "public_metrics           object\nid                       object\nlang                     object\nsource                   object\ncreated_at               object\nentities                 object\nconversation_id          object\ntext                     object\nreply_settings           object\nuser_id                  object\nreferenced_tweets_ids    object\nretweet_count             int64\nin_reply_to_user_id      object\nwithheld                 object\ndtype: object"
     },
     "execution_count": 104,
     "metadata": {},
     "output_type": "execute_result"
    }
   ],
   "source": [
    "# write code here datatype listing\n",
    "climate_feed_df.dtypes"
   ]
  },
  {
   "cell_type": "markdown",
   "metadata": {},
   "source": [
    "# Write columns with wrong datatype and mention correct data type too.\n",
    "\n",
    "*double click this cell to edit*\n",
    "- created_at , should be datetime\n",
    "\n",
    "all other fields are 'string' in the API specification, which maps to pandas 'object'"
   ]
  },
  {
   "cell_type": "markdown",
   "metadata": {},
   "source": [
    "# Q4 (1.5 point) Complete following tweet_user_generator. Generator should yield only *user* value from a tweet\n",
    "\n",
    "- As per the twitter API the user information is in the 'users' object within the 'includes' object of the response."
   ]
  },
  {
   "cell_type": "code",
   "execution_count": 90,
   "metadata": {},
   "outputs": [],
   "source": [
    "# write code here\n",
    "def tweet_user_generator(tweets):\n",
    "    df = None\n",
    "    queried_users = []\n",
    "    users = []\n",
    "    for t in tweets[\"data\"]:\n",
    "        user_id = t[\"author_id\"]\n",
    "        if user_id not in queried_users:\n",
    "            user_url = f'{base_url}2/users/{user_id}'\n",
    "#            print(f'calling {user_url}')\n",
    "            queried_users.append(user_id)\n",
    "            response = requests.get(user_url, headers=search_headers)\n",
    "            print(f'status code : {response.status_code}')\n",
    "            if response.status_code == 200:\n",
    "                users.append(response.json()[\"data\"])\n",
    "    return users"
   ]
  },
  {
   "cell_type": "code",
   "execution_count": 105,
   "metadata": {},
   "outputs": [
    {
     "name": "stdout",
     "output_type": "stream",
     "text": [
      "status code : 200\n",
      "status code : 200\n",
      "status code : 200\n",
      "status code : 200\n",
      "status code : 200\n",
      "status code : 200\n",
      "status code : 200\n",
      "status code : 200\n",
      "status code : 200\n",
      "status code : 200\n",
      "status code : 200\n",
      "status code : 200\n",
      "status code : 200\n",
      "status code : 200\n",
      "status code : 200\n",
      "status code : 200\n",
      "status code : 200\n",
      "status code : 200\n",
      "status code : 200\n",
      "status code : 200\n",
      "status code : 200\n",
      "status code : 200\n",
      "status code : 200\n",
      "status code : 200\n",
      "status code : 200\n",
      "status code : 200\n",
      "status code : 200\n",
      "status code : 200\n",
      "status code : 200\n",
      "status code : 200\n",
      "status code : 200\n",
      "status code : 200\n",
      "status code : 200\n",
      "status code : 200\n",
      "status code : 200\n",
      "status code : 200\n",
      "status code : 200\n",
      "status code : 200\n",
      "status code : 200\n",
      "status code : 200\n",
      "status code : 200\n",
      "status code : 200\n",
      "status code : 200\n",
      "status code : 200\n",
      "status code : 200\n",
      "status code : 200\n",
      "status code : 200\n",
      "status code : 200\n",
      "status code : 200\n",
      "status code : 200\n",
      "status code : 200\n",
      "status code : 200\n",
      "status code : 200\n",
      "status code : 200\n",
      "status code : 200\n",
      "status code : 200\n",
      "status code : 200\n",
      "status code : 200\n",
      "status code : 200\n",
      "status code : 200\n",
      "status code : 200\n",
      "status code : 200\n",
      "status code : 200\n",
      "status code : 200\n",
      "status code : 200\n",
      "status code : 200\n",
      "status code : 200\n",
      "status code : 200\n",
      "status code : 200\n",
      "status code : 200\n",
      "status code : 200\n",
      "status code : 200\n",
      "status code : 200\n",
      "status code : 200\n",
      "status code : 200\n",
      "status code : 200\n",
      "status code : 200\n",
      "status code : 200\n",
      "status code : 200\n",
      "status code : 200\n",
      "status code : 200\n",
      "status code : 200\n",
      "status code : 200\n",
      "status code : 200\n",
      "status code : 200\n",
      "status code : 200\n",
      "status code : 200\n",
      "status code : 200\n",
      "status code : 200\n",
      "status code : 200\n",
      "status code : 200\n",
      "status code : 200\n",
      "status code : 200\n",
      "status code : 200\n",
      "status code : 200\n",
      "status code : 200\n",
      "status code : 200\n",
      "status code : 429\n",
      "status code : 429\n",
      "status code : 429\n"
     ]
    }
   ],
   "source": [
    "user_df = pd.DataFrame(tweet_user_generator(climate_tweets))"
   ]
  },
  {
   "cell_type": "code",
   "execution_count": 106,
   "metadata": {},
   "outputs": [
    {
     "data": {
      "text/plain": "                     id                  name         username withheld\n0   1489372213102972932        TheTexasTrowIV    TheTexasTrow4      NaN\n1             463325504         Janet Lampron     JanetLampron      NaN\n2            3366336160            Geri Marie        ladydobe1      NaN\n3   1408706413984108544                  Toni  ToniMax93160066      NaN\n4             141977378  Graham Brown. 😜 🍁 💬💉   SilvertipGrizz      NaN\n..                  ...                   ...              ...      ...\n92            443806263          Anthony Rose       rosea_tony      NaN\n93  1370046545903689729                  Sime     Sime50068528      NaN\n94            191096018      Sylvia Pellicore           Roenok      NaN\n95             95025717           Bob Perella       bobperella      NaN\n96           3176841441            TheRedHead         ks_nancy      NaN\n\n[97 rows x 4 columns]",
      "text/html": "<div>\n<style scoped>\n    .dataframe tbody tr th:only-of-type {\n        vertical-align: middle;\n    }\n\n    .dataframe tbody tr th {\n        vertical-align: top;\n    }\n\n    .dataframe thead th {\n        text-align: right;\n    }\n</style>\n<table border=\"1\" class=\"dataframe\">\n  <thead>\n    <tr style=\"text-align: right;\">\n      <th></th>\n      <th>id</th>\n      <th>name</th>\n      <th>username</th>\n      <th>withheld</th>\n    </tr>\n  </thead>\n  <tbody>\n    <tr>\n      <th>0</th>\n      <td>1489372213102972932</td>\n      <td>TheTexasTrowIV</td>\n      <td>TheTexasTrow4</td>\n      <td>NaN</td>\n    </tr>\n    <tr>\n      <th>1</th>\n      <td>463325504</td>\n      <td>Janet Lampron</td>\n      <td>JanetLampron</td>\n      <td>NaN</td>\n    </tr>\n    <tr>\n      <th>2</th>\n      <td>3366336160</td>\n      <td>Geri Marie</td>\n      <td>ladydobe1</td>\n      <td>NaN</td>\n    </tr>\n    <tr>\n      <th>3</th>\n      <td>1408706413984108544</td>\n      <td>Toni</td>\n      <td>ToniMax93160066</td>\n      <td>NaN</td>\n    </tr>\n    <tr>\n      <th>4</th>\n      <td>141977378</td>\n      <td>Graham Brown. 😜 🍁 💬💉</td>\n      <td>SilvertipGrizz</td>\n      <td>NaN</td>\n    </tr>\n    <tr>\n      <th>...</th>\n      <td>...</td>\n      <td>...</td>\n      <td>...</td>\n      <td>...</td>\n    </tr>\n    <tr>\n      <th>92</th>\n      <td>443806263</td>\n      <td>Anthony Rose</td>\n      <td>rosea_tony</td>\n      <td>NaN</td>\n    </tr>\n    <tr>\n      <th>93</th>\n      <td>1370046545903689729</td>\n      <td>Sime</td>\n      <td>Sime50068528</td>\n      <td>NaN</td>\n    </tr>\n    <tr>\n      <th>94</th>\n      <td>191096018</td>\n      <td>Sylvia Pellicore</td>\n      <td>Roenok</td>\n      <td>NaN</td>\n    </tr>\n    <tr>\n      <th>95</th>\n      <td>95025717</td>\n      <td>Bob Perella</td>\n      <td>bobperella</td>\n      <td>NaN</td>\n    </tr>\n    <tr>\n      <th>96</th>\n      <td>3176841441</td>\n      <td>TheRedHead</td>\n      <td>ks_nancy</td>\n      <td>NaN</td>\n    </tr>\n  </tbody>\n</table>\n<p>97 rows × 4 columns</p>\n</div>"
     },
     "execution_count": 106,
     "metadata": {},
     "output_type": "execute_result"
    }
   ],
   "source": [
    "user_df"
   ]
  },
  {
   "cell_type": "markdown",
   "metadata": {},
   "source": [
    "# Q5(1 point) List datatypes of columns using user_df. Describe which attributes doesn't have correct data types. What should be correct datatype for each case?"
   ]
  },
  {
   "cell_type": "code",
   "execution_count": 107,
   "metadata": {},
   "outputs": [
    {
     "data": {
      "text/plain": "id          object\nname        object\nusername    object\nwithheld    object\ndtype: object"
     },
     "execution_count": 107,
     "metadata": {},
     "output_type": "execute_result"
    }
   ],
   "source": [
    "# write code here for datatype listing\n",
    "user_df.dtypes\n",
    "\n"
   ]
  },
  {
   "cell_type": "markdown",
   "metadata": {},
   "source": [
    "# write columns with wrong datatype and mention correct data type too.\n",
    "\n",
    "*double click this cell to edit*\n",
    "All the fields I have look to be correct"
   ]
  },
  {
   "cell_type": "markdown",
   "metadata": {},
   "source": [
    "# Q6 (1 point) Complete following retweeted_status_generator. Generator should yield dictionary of retweeted_status value from each tweet. If a tweet doesn't have this key return empty dictionary.\n",
    "\n",
    "- As per the twitter API the user information is in the 'users' object within the 'includes' object of the response."
   ]
  },
  {
   "cell_type": "code",
   "execution_count": 108,
   "metadata": {},
   "outputs": [],
   "source": [
    "retweeted_status_df = climate_feed_df[['id', 'retweet_count']]"
   ]
  },
  {
   "cell_type": "code",
   "execution_count": 109,
   "metadata": {},
   "outputs": [
    {
     "data": {
      "text/plain": "                    id  retweet_count\n0  1551299627974103041            369\n1  1551299627571462145             50\n2  1551299627189768193              2\n3  1551299626598387713              0\n4  1551299622026354690            655",
      "text/html": "<div>\n<style scoped>\n    .dataframe tbody tr th:only-of-type {\n        vertical-align: middle;\n    }\n\n    .dataframe tbody tr th {\n        vertical-align: top;\n    }\n\n    .dataframe thead th {\n        text-align: right;\n    }\n</style>\n<table border=\"1\" class=\"dataframe\">\n  <thead>\n    <tr style=\"text-align: right;\">\n      <th></th>\n      <th>id</th>\n      <th>retweet_count</th>\n    </tr>\n  </thead>\n  <tbody>\n    <tr>\n      <th>0</th>\n      <td>1551299627974103041</td>\n      <td>369</td>\n    </tr>\n    <tr>\n      <th>1</th>\n      <td>1551299627571462145</td>\n      <td>50</td>\n    </tr>\n    <tr>\n      <th>2</th>\n      <td>1551299627189768193</td>\n      <td>2</td>\n    </tr>\n    <tr>\n      <th>3</th>\n      <td>1551299626598387713</td>\n      <td>0</td>\n    </tr>\n    <tr>\n      <th>4</th>\n      <td>1551299622026354690</td>\n      <td>655</td>\n    </tr>\n  </tbody>\n</table>\n</div>"
     },
     "execution_count": 109,
     "metadata": {},
     "output_type": "execute_result"
    }
   ],
   "source": [
    "retweeted_status_df.head()"
   ]
  },
  {
   "cell_type": "markdown",
   "metadata": {},
   "source": [
    "# Q7 (1 point) Write code to find number of rows in retweeted_status_df that were not retweeted. print number of such rows."
   ]
  },
  {
   "cell_type": "code",
   "execution_count": 111,
   "metadata": {},
   "outputs": [
    {
     "data": {
      "text/plain": "31"
     },
     "execution_count": 111,
     "metadata": {},
     "output_type": "execute_result"
    }
   ],
   "source": [
    "# Write code here\n",
    "retweeted_status_df[retweeted_status_df[\"retweet_count\"] == 0].shape[0]"
   ]
  }
 ],
 "metadata": {
  "kernelspec": {
   "display_name": "Python 3 (ipykernel)",
   "language": "python",
   "name": "python3"
  },
  "language_info": {
   "codemirror_mode": {
    "name": "ipython",
    "version": 3
   },
   "file_extension": ".py",
   "mimetype": "text/x-python",
   "name": "python",
   "nbconvert_exporter": "python",
   "pygments_lexer": "ipython3",
   "version": "3.9.12"
  },
  "toc": {
   "base_numbering": 1,
   "nav_menu": {},
   "number_sections": false,
   "sideBar": true,
   "skip_h1_title": false,
   "title_cell": "Table of Contents",
   "title_sidebar": "Contents",
   "toc_cell": false,
   "toc_position": {},
   "toc_section_display": true,
   "toc_window_display": false
  },
  "varInspector": {
   "cols": {
    "lenName": 16,
    "lenType": 16,
    "lenVar": 40
   },
   "kernels_config": {
    "python": {
     "delete_cmd_postfix": "",
     "delete_cmd_prefix": "del ",
     "library": "var_list.py",
     "varRefreshCmd": "print(var_dic_list())"
    },
    "r": {
     "delete_cmd_postfix": ") ",
     "delete_cmd_prefix": "rm(",
     "library": "var_list.r",
     "varRefreshCmd": "cat(var_dic_list()) "
    }
   },
   "types_to_exclude": [
    "module",
    "function",
    "builtin_function_or_method",
    "instance",
    "_Feature"
   ],
   "window_display": false
  }
 },
 "nbformat": 4,
 "nbformat_minor": 4
}