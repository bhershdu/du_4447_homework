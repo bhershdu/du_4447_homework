{
 "cells": [
  {
   "cell_type": "markdown",
   "metadata": {},
   "source": [
    "# HW7 (total points 6)\n",
    "\n",
    "# Use pandas API to finish problem in this notebook.\n",
    "\n",
    "https://pandas.pydata.org/pandas-docs/stable/reference/index.html\n",
    "\n",
    "Total points 6"
   ]
  },
  {
   "cell_type": "code",
   "execution_count": 1,
   "metadata": {},
   "outputs": [],
   "source": [
    "import numpy as np\n",
    "import pandas as pd\n",
    "#you may want to import some other modules here such as seaborn or matplotlib"
   ]
  },
  {
   "cell_type": "code",
   "execution_count": 2,
   "metadata": {},
   "outputs": [],
   "source": [
    "from io import BytesIO\n",
    "from zipfile import ZipFile\n",
    "import requests"
   ]
  },
  {
   "cell_type": "markdown",
   "metadata": {},
   "source": [
    "**Let download movie lense dataset [MovieLens](https://grouplens.org/datasets/movielens/) and extract zip file using various python packages**\n",
    "\n",
    "http://files.grouplens.org/datasets/movielens/ml-latest-small.zip"
   ]
  },
  {
   "cell_type": "code",
   "execution_count": 3,
   "metadata": {},
   "outputs": [
    {
     "name": "stdout",
     "output_type": "stream",
     "text": [
      "200\n"
     ]
    }
   ],
   "source": [
    "r = requests.get(\"http://files.grouplens.org/datasets/movielens/ml-latest-small.zip\")\n",
    "print(r.status_code)\n",
    "zipfile = ZipFile(BytesIO(r.content))"
   ]
  },
  {
   "cell_type": "code",
   "execution_count": 4,
   "metadata": {},
   "outputs": [],
   "source": [
    "zipfile.extractall()"
   ]
  },
  {
   "cell_type": "code",
   "execution_count": 6,
   "metadata": {},
   "outputs": [
    {
     "name": "stderr",
     "output_type": "stream",
     "text": [
      "UsageError: %%bash is a cell magic, but the cell body is empty.\n"
     ]
    }
   ],
   "source": [
    "! ls ml-latest-small/"
   ]
  },
  {
   "cell_type": "code",
   "execution_count": 96,
   "metadata": {},
   "outputs": [
    {
     "name": "stdout",
     "output_type": "stream",
     "text": [
      "movieId,title,genres\r",
      "\r\n",
      "1,Toy Story (1995),Adventure|Animation|Children|Comedy|Fantasy\r",
      "\r\n",
      "2,Jumanji (1995),Adventure|Children|Fantasy\r",
      "\r\n",
      "3,Grumpier Old Men (1995),Comedy|Romance\r",
      "\r\n",
      "4,Waiting to Exhale (1995),Comedy|Drama|Romance\r",
      "\r\n",
      "5,Father of the Bride Part II (1995),Comedy\r",
      "\r\n",
      "6,Heat (1995),Action|Crime|Thriller\r",
      "\r\n",
      "7,Sabrina (1995),Comedy|Romance\r",
      "\r\n",
      "8,Tom and Huck (1995),Adventure|Children\r",
      "\r\n",
      "9,Sudden Death (1995),Action\r",
      "\r\n"
     ]
    }
   ],
   "source": [
    "! head  ./ml-latest-small/movies.csv"
   ]
  },
  {
   "cell_type": "markdown",
   "metadata": {},
   "source": [
    "**It is a csv file.** We can use pandas read_csv to read this file into pandas DataFrame"
   ]
  },
  {
   "cell_type": "code",
   "execution_count": 117,
   "metadata": {},
   "outputs": [
    {
     "data": {
      "text/plain": "   movieId                               title  \\\n0        1                    Toy Story (1995)   \n1        2                      Jumanji (1995)   \n2        3             Grumpier Old Men (1995)   \n3        4            Waiting to Exhale (1995)   \n4        5  Father of the Bride Part II (1995)   \n\n                                        genres  \n0  Adventure|Animation|Children|Comedy|Fantasy  \n1                   Adventure|Children|Fantasy  \n2                               Comedy|Romance  \n3                         Comedy|Drama|Romance  \n4                                       Comedy  ",
      "text/html": "<div>\n<style scoped>\n    .dataframe tbody tr th:only-of-type {\n        vertical-align: middle;\n    }\n\n    .dataframe tbody tr th {\n        vertical-align: top;\n    }\n\n    .dataframe thead th {\n        text-align: right;\n    }\n</style>\n<table border=\"1\" class=\"dataframe\">\n  <thead>\n    <tr style=\"text-align: right;\">\n      <th></th>\n      <th>movieId</th>\n      <th>title</th>\n      <th>genres</th>\n    </tr>\n  </thead>\n  <tbody>\n    <tr>\n      <th>0</th>\n      <td>1</td>\n      <td>Toy Story (1995)</td>\n      <td>Adventure|Animation|Children|Comedy|Fantasy</td>\n    </tr>\n    <tr>\n      <th>1</th>\n      <td>2</td>\n      <td>Jumanji (1995)</td>\n      <td>Adventure|Children|Fantasy</td>\n    </tr>\n    <tr>\n      <th>2</th>\n      <td>3</td>\n      <td>Grumpier Old Men (1995)</td>\n      <td>Comedy|Romance</td>\n    </tr>\n    <tr>\n      <th>3</th>\n      <td>4</td>\n      <td>Waiting to Exhale (1995)</td>\n      <td>Comedy|Drama|Romance</td>\n    </tr>\n    <tr>\n      <th>4</th>\n      <td>5</td>\n      <td>Father of the Bride Part II (1995)</td>\n      <td>Comedy</td>\n    </tr>\n  </tbody>\n</table>\n</div>"
     },
     "execution_count": 117,
     "metadata": {},
     "output_type": "execute_result"
    }
   ],
   "source": [
    "# lets read movies.csv file\n",
    "movie = pd.read_csv('./ml-latest-small/movies.csv')\n",
    "\n",
    "movie.head()"
   ]
  },
  {
   "cell_type": "markdown",
   "metadata": {},
   "source": [
    "# Q1 (.25 point) Check if any of the columns are null"
   ]
  },
  {
   "cell_type": "code",
   "execution_count": 118,
   "metadata": {},
   "outputs": [
    {
     "name": "stdout",
     "output_type": "stream",
     "text": [
      "movieId    0\n",
      "title      0\n",
      "genres     0\n",
      "dtype: int64\n"
     ]
    }
   ],
   "source": [
    "# write pandas code here\n",
    "print(movie.isnull().sum())"
   ]
  },
  {
   "cell_type": "markdown",
   "metadata": {},
   "source": [
    "# Q 2 (.25 point) Check datatype of each of the columns"
   ]
  },
  {
   "cell_type": "code",
   "execution_count": 119,
   "metadata": {},
   "outputs": [
    {
     "data": {
      "text/plain": "movieId     int64\ntitle      object\ngenres     object\ndtype: object"
     },
     "execution_count": 119,
     "metadata": {},
     "output_type": "execute_result"
    }
   ],
   "source": [
    "movie.dtypes"
   ]
  },
  {
   "cell_type": "markdown",
   "metadata": {},
   "source": [
    "# Q3 (.5 point) Using *str* on series genres, build following  unique_genre set. It should contain all the unique genres from genres column. Print unique genres too.\n",
    "\n"
   ]
  },
  {
   "cell_type": "code",
   "execution_count": 120,
   "metadata": {},
   "outputs": [
    {
     "data": {
      "text/plain": "{'(no genres listed)',\n 'Action',\n 'Adventure',\n 'Animation',\n 'Children',\n 'Comedy',\n 'Crime',\n 'Documentary',\n 'Drama',\n 'Fantasy',\n 'Film-Noir',\n 'Horror',\n 'IMAX',\n 'Musical',\n 'Mystery',\n 'Romance',\n 'Sci-Fi',\n 'Thriller',\n 'War',\n 'Western'}"
     },
     "execution_count": 120,
     "metadata": {},
     "output_type": "execute_result"
    }
   ],
   "source": [
    "# write pandas code here\n",
    "unique_genre = set([g for row in movie[\"genres\"].str.split(\"|\").tolist() for g in row])\n",
    "unique_genre"
   ]
  },
  {
   "cell_type": "markdown",
   "metadata": {},
   "source": [
    "# Q 4 (1 point) Build columns for different genres with value True or False based on whether a genre is present or not in an observation?\n",
    "\n"
   ]
  },
  {
   "cell_type": "code",
   "execution_count": 121,
   "metadata": {},
   "outputs": [
    {
     "name": "stderr",
     "output_type": "stream",
     "text": [
      "C:\\Users\\benja\\AppData\\Local\\Temp/ipykernel_22380/3093493409.py:3: UserWarning: This pattern has match groups. To actually get the groups, use str.extract.\n",
      "  movie[g] = movie[\"genres\"].str.contains(g)\n"
     ]
    },
    {
     "data": {
      "text/plain": "   movieId                               title  \\\n0        1                    Toy Story (1995)   \n1        2                      Jumanji (1995)   \n2        3             Grumpier Old Men (1995)   \n3        4            Waiting to Exhale (1995)   \n4        5  Father of the Bride Part II (1995)   \n\n                                        genres  Fantasy  (no genres listed)  \\\n0  Adventure|Animation|Children|Comedy|Fantasy     True               False   \n1                   Adventure|Children|Fantasy     True               False   \n2                               Comedy|Romance    False               False   \n3                         Comedy|Drama|Romance    False               False   \n4                                       Comedy    False               False   \n\n   Western  Romance   IMAX  Horror  Comedy  ...  Children  Thriller  Action  \\\n0    False    False  False   False    True  ...      True     False   False   \n1    False    False  False   False   False  ...      True     False   False   \n2    False     True  False   False    True  ...     False     False   False   \n3    False     True  False   False    True  ...     False     False   False   \n4    False    False  False   False    True  ...     False     False   False   \n\n   Mystery    War  Musical  Animation  Film-Noir  Drama  Crime  \n0    False  False    False       True      False  False  False  \n1    False  False    False      False      False  False  False  \n2    False  False    False      False      False  False  False  \n3    False  False    False      False      False   True  False  \n4    False  False    False      False      False  False  False  \n\n[5 rows x 23 columns]",
      "text/html": "<div>\n<style scoped>\n    .dataframe tbody tr th:only-of-type {\n        vertical-align: middle;\n    }\n\n    .dataframe tbody tr th {\n        vertical-align: top;\n    }\n\n    .dataframe thead th {\n        text-align: right;\n    }\n</style>\n<table border=\"1\" class=\"dataframe\">\n  <thead>\n    <tr style=\"text-align: right;\">\n      <th></th>\n      <th>movieId</th>\n      <th>title</th>\n      <th>genres</th>\n      <th>Fantasy</th>\n      <th>(no genres listed)</th>\n      <th>Western</th>\n      <th>Romance</th>\n      <th>IMAX</th>\n      <th>Horror</th>\n      <th>Comedy</th>\n      <th>...</th>\n      <th>Children</th>\n      <th>Thriller</th>\n      <th>Action</th>\n      <th>Mystery</th>\n      <th>War</th>\n      <th>Musical</th>\n      <th>Animation</th>\n      <th>Film-Noir</th>\n      <th>Drama</th>\n      <th>Crime</th>\n    </tr>\n  </thead>\n  <tbody>\n    <tr>\n      <th>0</th>\n      <td>1</td>\n      <td>Toy Story (1995)</td>\n      <td>Adventure|Animation|Children|Comedy|Fantasy</td>\n      <td>True</td>\n      <td>False</td>\n      <td>False</td>\n      <td>False</td>\n      <td>False</td>\n      <td>False</td>\n      <td>True</td>\n      <td>...</td>\n      <td>True</td>\n      <td>False</td>\n      <td>False</td>\n      <td>False</td>\n      <td>False</td>\n      <td>False</td>\n      <td>True</td>\n      <td>False</td>\n      <td>False</td>\n      <td>False</td>\n    </tr>\n    <tr>\n      <th>1</th>\n      <td>2</td>\n      <td>Jumanji (1995)</td>\n      <td>Adventure|Children|Fantasy</td>\n      <td>True</td>\n      <td>False</td>\n      <td>False</td>\n      <td>False</td>\n      <td>False</td>\n      <td>False</td>\n      <td>False</td>\n      <td>...</td>\n      <td>True</td>\n      <td>False</td>\n      <td>False</td>\n      <td>False</td>\n      <td>False</td>\n      <td>False</td>\n      <td>False</td>\n      <td>False</td>\n      <td>False</td>\n      <td>False</td>\n    </tr>\n    <tr>\n      <th>2</th>\n      <td>3</td>\n      <td>Grumpier Old Men (1995)</td>\n      <td>Comedy|Romance</td>\n      <td>False</td>\n      <td>False</td>\n      <td>False</td>\n      <td>True</td>\n      <td>False</td>\n      <td>False</td>\n      <td>True</td>\n      <td>...</td>\n      <td>False</td>\n      <td>False</td>\n      <td>False</td>\n      <td>False</td>\n      <td>False</td>\n      <td>False</td>\n      <td>False</td>\n      <td>False</td>\n      <td>False</td>\n      <td>False</td>\n    </tr>\n    <tr>\n      <th>3</th>\n      <td>4</td>\n      <td>Waiting to Exhale (1995)</td>\n      <td>Comedy|Drama|Romance</td>\n      <td>False</td>\n      <td>False</td>\n      <td>False</td>\n      <td>True</td>\n      <td>False</td>\n      <td>False</td>\n      <td>True</td>\n      <td>...</td>\n      <td>False</td>\n      <td>False</td>\n      <td>False</td>\n      <td>False</td>\n      <td>False</td>\n      <td>False</td>\n      <td>False</td>\n      <td>False</td>\n      <td>True</td>\n      <td>False</td>\n    </tr>\n    <tr>\n      <th>4</th>\n      <td>5</td>\n      <td>Father of the Bride Part II (1995)</td>\n      <td>Comedy</td>\n      <td>False</td>\n      <td>False</td>\n      <td>False</td>\n      <td>False</td>\n      <td>False</td>\n      <td>False</td>\n      <td>True</td>\n      <td>...</td>\n      <td>False</td>\n      <td>False</td>\n      <td>False</td>\n      <td>False</td>\n      <td>False</td>\n      <td>False</td>\n      <td>False</td>\n      <td>False</td>\n      <td>False</td>\n      <td>False</td>\n    </tr>\n  </tbody>\n</table>\n<p>5 rows × 23 columns</p>\n</div>"
     },
     "execution_count": 121,
     "metadata": {},
     "output_type": "execute_result"
    }
   ],
   "source": [
    "# write pandas code here\n",
    "for g in unique_genre:\n",
    "    movie[g] = movie[\"genres\"].str.contains(g)\n",
    "movie.head()"
   ]
  },
  {
   "cell_type": "markdown",
   "metadata": {},
   "source": [
    "# Q5(1 point) Build a \"year\" column in movie data frame. The title \"year\" should be embedded in title columns."
   ]
  },
  {
   "cell_type": "markdown",
   "metadata": {},
   "source": [
    "Python regular expression  package **re** is very useful tool for text data handling.  This excercise is a very primitive use of it.\n",
    "\n",
    "\n",
    "note\n",
    "- . mean any character\n",
    "- *. means \"0 or more instances of the preceding regex token\n",
    "- \\[ matches a literal [ character\n",
    "- [A-Za-z0-9] digits and lower, upper case, I think same as \\w+\n",
    "- '+' matches one more more times\n",
    "- \\d Matches any decimal digit"
   ]
  },
  {
   "cell_type": "code",
   "execution_count": 133,
   "metadata": {},
   "outputs": [
    {
     "data": {
      "text/plain": "                                               title  year\n1691                                Rush Hour (1998)  1998\n4359                                  Respiro (2002)  2002\n3888  Crocodile Hunter: Collision Course, The (2002)  2002\n873                         Ruling Class, The (1972)  1972\n5030                  Thin Man Goes Home, The (1945)  1945\n5160                                  Shrek 2 (2004)  2004\n4686                                    Hoffa (1992)  1992\n6070                     Yours, Mine and Ours (2005)  2005\n6873       Angus, Thongs and Perfect Snogging (2008)  2008\n5288                                  Biggles (1986)  1986\n7054              Taking of Pelham 1 2 3, The (2009)  2009\n7685             I Don't Know How She Does It (2011)  2011\n755                           Michael Collins (1996)  1996\n750                     Pompatus of Love, The (1996)  1996\n1992          Frankenstein Meets the Wolf Man (1943)  1943\n4693                      Last Boy Scout, The (1991)  1991\n8094                                     Tabu (2012)  2012\n2171                                Simon Sez (1999)  1999\n8860                          Pitch Perfect 2 (2015)  2015\n6294                               Jesus Camp (2006)  2006\n1647                                Knock Off (1998)  1998\n5563                         Johnny Stecchino (1991)  1991\n8519        Who Am I (Kein System Ist Sicher) (2014)  2014\n3547                                    Bones (2001)  2001\n3910                            Our Man Flint (1965)  1965\n7030                     Terminator Salvation (2009)  2009\n485                                 Tombstone (1993)  1993\n3105                              Get Over It (2001)  2001\n7701                               Bellflower (2011)  2011\n1594                     Nutty Professor, The (1963)  1963",
      "text/html": "<div>\n<style scoped>\n    .dataframe tbody tr th:only-of-type {\n        vertical-align: middle;\n    }\n\n    .dataframe tbody tr th {\n        vertical-align: top;\n    }\n\n    .dataframe thead th {\n        text-align: right;\n    }\n</style>\n<table border=\"1\" class=\"dataframe\">\n  <thead>\n    <tr style=\"text-align: right;\">\n      <th></th>\n      <th>title</th>\n      <th>year</th>\n    </tr>\n  </thead>\n  <tbody>\n    <tr>\n      <th>1691</th>\n      <td>Rush Hour (1998)</td>\n      <td>1998</td>\n    </tr>\n    <tr>\n      <th>4359</th>\n      <td>Respiro (2002)</td>\n      <td>2002</td>\n    </tr>\n    <tr>\n      <th>3888</th>\n      <td>Crocodile Hunter: Collision Course, The (2002)</td>\n      <td>2002</td>\n    </tr>\n    <tr>\n      <th>873</th>\n      <td>Ruling Class, The (1972)</td>\n      <td>1972</td>\n    </tr>\n    <tr>\n      <th>5030</th>\n      <td>Thin Man Goes Home, The (1945)</td>\n      <td>1945</td>\n    </tr>\n    <tr>\n      <th>5160</th>\n      <td>Shrek 2 (2004)</td>\n      <td>2004</td>\n    </tr>\n    <tr>\n      <th>4686</th>\n      <td>Hoffa (1992)</td>\n      <td>1992</td>\n    </tr>\n    <tr>\n      <th>6070</th>\n      <td>Yours, Mine and Ours (2005)</td>\n      <td>2005</td>\n    </tr>\n    <tr>\n      <th>6873</th>\n      <td>Angus, Thongs and Perfect Snogging (2008)</td>\n      <td>2008</td>\n    </tr>\n    <tr>\n      <th>5288</th>\n      <td>Biggles (1986)</td>\n      <td>1986</td>\n    </tr>\n    <tr>\n      <th>7054</th>\n      <td>Taking of Pelham 1 2 3, The (2009)</td>\n      <td>2009</td>\n    </tr>\n    <tr>\n      <th>7685</th>\n      <td>I Don't Know How She Does It (2011)</td>\n      <td>2011</td>\n    </tr>\n    <tr>\n      <th>755</th>\n      <td>Michael Collins (1996)</td>\n      <td>1996</td>\n    </tr>\n    <tr>\n      <th>750</th>\n      <td>Pompatus of Love, The (1996)</td>\n      <td>1996</td>\n    </tr>\n    <tr>\n      <th>1992</th>\n      <td>Frankenstein Meets the Wolf Man (1943)</td>\n      <td>1943</td>\n    </tr>\n    <tr>\n      <th>4693</th>\n      <td>Last Boy Scout, The (1991)</td>\n      <td>1991</td>\n    </tr>\n    <tr>\n      <th>8094</th>\n      <td>Tabu (2012)</td>\n      <td>2012</td>\n    </tr>\n    <tr>\n      <th>2171</th>\n      <td>Simon Sez (1999)</td>\n      <td>1999</td>\n    </tr>\n    <tr>\n      <th>8860</th>\n      <td>Pitch Perfect 2 (2015)</td>\n      <td>2015</td>\n    </tr>\n    <tr>\n      <th>6294</th>\n      <td>Jesus Camp (2006)</td>\n      <td>2006</td>\n    </tr>\n    <tr>\n      <th>1647</th>\n      <td>Knock Off (1998)</td>\n      <td>1998</td>\n    </tr>\n    <tr>\n      <th>5563</th>\n      <td>Johnny Stecchino (1991)</td>\n      <td>1991</td>\n    </tr>\n    <tr>\n      <th>8519</th>\n      <td>Who Am I (Kein System Ist Sicher) (2014)</td>\n      <td>2014</td>\n    </tr>\n    <tr>\n      <th>3547</th>\n      <td>Bones (2001)</td>\n      <td>2001</td>\n    </tr>\n    <tr>\n      <th>3910</th>\n      <td>Our Man Flint (1965)</td>\n      <td>1965</td>\n    </tr>\n    <tr>\n      <th>7030</th>\n      <td>Terminator Salvation (2009)</td>\n      <td>2009</td>\n    </tr>\n    <tr>\n      <th>485</th>\n      <td>Tombstone (1993)</td>\n      <td>1993</td>\n    </tr>\n    <tr>\n      <th>3105</th>\n      <td>Get Over It (2001)</td>\n      <td>2001</td>\n    </tr>\n    <tr>\n      <th>7701</th>\n      <td>Bellflower (2011)</td>\n      <td>2011</td>\n    </tr>\n    <tr>\n      <th>1594</th>\n      <td>Nutty Professor, The (1963)</td>\n      <td>1963</td>\n    </tr>\n  </tbody>\n</table>\n</div>"
     },
     "execution_count": 133,
     "metadata": {},
     "output_type": "execute_result"
    }
   ],
   "source": [
    "# write pandas code here\n",
    "year_re = \"\\.*\\((\\d{4})\\.*\"\n",
    "movie[\"year\"] = movie[\"title\"].str.extract(year_re)\n",
    "# treat 0 as na\n",
    "movie[\"year\"].fillna(\"0\", inplace=True)\n",
    "movie[\"year\"] = movie[\"year\"].apply(int)\n",
    "movie.sample(30)[[\"title\",\"year\"]]\n",
    "# movie[movie[\"year\"].isna()][\"title\"]"
   ]
  },
  {
   "cell_type": "markdown",
   "metadata": {},
   "source": [
    "# Q6.(.5 point) Using seaborn, plot a bar plot of average number of movies per year. Do you see any trend?"
   ]
  },
  {
   "cell_type": "code",
   "execution_count": 144,
   "metadata": {},
   "outputs": [
    {
     "name": "stderr",
     "output_type": "stream",
     "text": [
      "c:\\users\\benja\\git-projects\\bitbucket\\du_4447_homework\\venvs\\lib\\site-packages\\seaborn\\_decorators.py:36: FutureWarning: Pass the following variables as keyword args: x, y. From version 0.12, the only valid positional argument will be `data`, and passing other arguments without an explicit keyword will result in an error or misinterpretation.\n",
      "  warnings.warn(\n"
     ]
    },
    {
     "data": {
      "text/plain": "<Figure size 432x288 with 1 Axes>",
      "image/png": "[encoded data removed]"
     },
     "metadata": {
      "needs_background": "light"
     },
     "output_type": "display_data"
    }
   ],
   "source": [
    "# write code here.\n",
    "import seaborn as sns\n",
    "import matplotlib.pyplot as plt\n",
    "movie_counts = pd.DataFrame(movie[movie[\"year\"]>0].groupby([\"year\"])[\"movieId\"].count())\n",
    "movie_counts = movie_counts.rename(columns={\"movieId\":\"count\"})\n",
    "movie_counts = movie_counts.reset_index()\n",
    "movie_counts.columns\n",
    "movie_counts\n",
    "sns.barplot(\"year\",\"count\", data=movie_counts)\n",
    "plt.title(\"Number of Movies per Year\")\n",
    "plt.locator_params(axis=\"x\", nbins=10)\n",
    "#plt.xticks(range(movie[\"year\"].min(), movie[\"year\"].max(),10))\n",
    "# movie_counts[\"year\"].min()"
   ]
  },
  {
   "cell_type": "markdown",
   "source": [
    "there was a rapid increase in the number of movies per year around 1980, but that has reversed after 2001. The decrease is slower than the increase."
   ],
   "metadata": {
    "collapsed": false,
    "pycharm": {
     "name": "#%% md\n"
    }
   }
  },
  {
   "cell_type": "markdown",
   "source": [],
   "metadata": {
    "collapsed": false,
    "pycharm": {
     "name": "#%% md\n"
    }
   }
  },
  {
   "cell_type": "markdown",
   "metadata": {},
   "source": [
    "# Q7.(1 point) Using matplotlib, plot total number of movies (cumulative over all the years) for each genre.  Your plot should have proper title, axis labels and legends. "
   ]
  },
  {
   "cell_type": "markdown",
   "metadata": {
    "pycharm": {
     "name": "#%% md\n"
    }
   },
   "source": []
  },
  {
   "cell_type": "markdown",
   "metadata": {},
   "source": [
    "# Q 8 (.5 point) Build a *movie_title* column containing  the title of the movie. (It should not contain year). Drop the original *title* columns. Display final movie dataFrame."
   ]
  },
  {
   "cell_type": "code",
   "execution_count": 3,
   "metadata": {},
   "outputs": [],
   "source": [
    " # write pandas code here"
   ]
  },
  {
   "cell_type": "markdown",
   "metadata": {},
   "source": [
    "# Q 9(1 point) Using seaborn, plot average number of words in a movie name over the years in different genres. You may choose to make separate plots for each genre or to make a single color coded plot as a function of years. All plots should have proper title, axis labels and legends. Write your observation in no more than 2 lines."
   ]
  },
  {
   "cell_type": "code",
   "execution_count": 4,
   "metadata": {},
   "outputs": [],
   "source": [
    "# Write your code here.\n",
    "\n"
   ]
  }
 ],
 "metadata": {
  "kernelspec": {
   "display_name": "Python 3 (ipykernel)",
   "language": "python",
   "name": "python3"
  },
  "language_info": {
   "codemirror_mode": {
    "name": "ipython",
    "version": 3
   },
   "file_extension": ".py",
   "mimetype": "text/x-python",
   "name": "python",
   "nbconvert_exporter": "python",
   "pygments_lexer": "ipython3",
   "version": "3.10.0"
  },
  "toc": {
   "base_numbering": 1,
   "nav_menu": {},
   "number_sections": false,
   "sideBar": true,
   "skip_h1_title": false,
   "title_cell": "Table of Contents",
   "title_sidebar": "Contents",
   "toc_cell": false,
   "toc_position": {},
   "toc_section_display": true,
   "toc_window_display": false
  },
  "varInspector": {
   "cols": {
    "lenName": 16,
    "lenType": 16,
    "lenVar": 40
   },
   "kernels_config": {
    "python": {
     "delete_cmd_postfix": "",
     "delete_cmd_prefix": "del ",
     "library": "var_list.py",
     "varRefreshCmd": "print(var_dic_list())"
    },
    "r": {
     "delete_cmd_postfix": ") ",
     "delete_cmd_prefix": "rm(",
     "library": "var_list.r",
     "varRefreshCmd": "cat(var_dic_list()) "
    }
   },
   "types_to_exclude": [
    "module",
    "function",
    "builtin_function_or_method",
    "instance",
    "_Feature"
   ],
   "window_display": false
  }
 },
 "nbformat": 4,
 "nbformat_minor": 2
}