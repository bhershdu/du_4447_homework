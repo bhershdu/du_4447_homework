{
 "cells": [
  {
   "cell_type": "markdown",
   "metadata": {},
   "source": [
    "# HW7 (total points 6)\n",
    "\n",
    "# Use pandas API to finish problem in this notebook.\n",
    "\n",
    "https://pandas.pydata.org/pandas-docs/stable/reference/index.html\n",
    "\n",
    "Total points 6"
   ]
  },
  {
   "cell_type": "code",
   "execution_count": 1,
   "metadata": {},
   "outputs": [],
   "source": [
    "import re\n",
    "\n",
    "import numpy as np\n",
    "import pandas as pd\n",
    "#you may want to import some other modules here such as seaborn or matplotlib"
   ]
  },
  {
   "cell_type": "code",
   "execution_count": 2,
   "metadata": {},
   "outputs": [],
   "source": [
    "from io import BytesIO\n",
    "from zipfile import ZipFile\n",
    "import requests"
   ]
  },
  {
   "cell_type": "markdown",
   "metadata": {},
   "source": [
    "**Let download movie lense dataset [MovieLens](https://grouplens.org/datasets/movielens/) and extract zip file using various python packages**\n",
    "\n",
    "http://files.grouplens.org/datasets/movielens/ml-latest-small.zip"
   ]
  },
  {
   "cell_type": "code",
   "execution_count": 3,
   "metadata": {},
   "outputs": [
    {
     "name": "stdout",
     "output_type": "stream",
     "text": [
      "200\n"
     ]
    }
   ],
   "source": [
    "r = requests.get(\"http://files.grouplens.org/datasets/movielens/ml-latest-small.zip\")\n",
    "print(r.status_code)\n",
    "zipfile = ZipFile(BytesIO(r.content))"
   ]
  },
  {
   "cell_type": "code",
   "execution_count": 4,
   "metadata": {},
   "outputs": [],
   "source": [
    "zipfile.extractall()"
   ]
  },
  {
   "cell_type": "code",
   "execution_count": 5,
   "metadata": {},
   "outputs": [
    {
     "name": "stdout",
     "output_type": "stream",
     "text": [
      "README.txt\n",
      "links.csv\n",
      "movies.csv\n",
      "ratings.csv\n",
      "tags.csv\n"
     ]
    }
   ],
   "source": [
    "%%bash\n",
    "ls ml-latest-small/"
   ]
  },
  {
   "cell_type": "code",
   "execution_count": 6,
   "metadata": {},
   "outputs": [
    {
     "name": "stdout",
     "output_type": "stream",
     "text": [
      "movieId,title,genres\r\n",
      "1,Toy Story (1995),Adventure|Animation|Children|Comedy|Fantasy\r\n",
      "2,Jumanji (1995),Adventure|Children|Fantasy\r\n",
      "3,Grumpier Old Men (1995),Comedy|Romance\r\n",
      "4,Waiting to Exhale (1995),Comedy|Drama|Romance\r\n",
      "5,Father of the Bride Part II (1995),Comedy\r\n",
      "6,Heat (1995),Action|Crime|Thriller\r\n",
      "7,Sabrina (1995),Comedy|Romance\r\n",
      "8,Tom and Huck (1995),Adventure|Children\r\n",
      "9,Sudden Death (1995),Action\r\n"
     ]
    }
   ],
   "source": [
    "%%bash\n",
    " head  ./ml-latest-small/movies.csv"
   ]
  },
  {
   "cell_type": "markdown",
   "metadata": {},
   "source": [
    "**It is a csv file.** We can use pandas read_csv to read this file into pandas DataFrame"
   ]
  },
  {
   "cell_type": "code",
   "execution_count": 119,
   "metadata": {},
   "outputs": [
    {
     "data": {
      "text/plain": "   movieId                               title  \\\n0        1                    Toy Story (1995)   \n1        2                      Jumanji (1995)   \n2        3             Grumpier Old Men (1995)   \n3        4            Waiting to Exhale (1995)   \n4        5  Father of the Bride Part II (1995)   \n\n                                        genres  \n0  Adventure|Animation|Children|Comedy|Fantasy  \n1                   Adventure|Children|Fantasy  \n2                               Comedy|Romance  \n3                         Comedy|Drama|Romance  \n4                                       Comedy  ",
      "text/html": "<div>\n<style scoped>\n    .dataframe tbody tr th:only-of-type {\n        vertical-align: middle;\n    }\n\n    .dataframe tbody tr th {\n        vertical-align: top;\n    }\n\n    .dataframe thead th {\n        text-align: right;\n    }\n</style>\n<table border=\"1\" class=\"dataframe\">\n  <thead>\n    <tr style=\"text-align: right;\">\n      <th></th>\n      <th>movieId</th>\n      <th>title</th>\n      <th>genres</th>\n    </tr>\n  </thead>\n  <tbody>\n    <tr>\n      <th>0</th>\n      <td>1</td>\n      <td>Toy Story (1995)</td>\n      <td>Adventure|Animation|Children|Comedy|Fantasy</td>\n    </tr>\n    <tr>\n      <th>1</th>\n      <td>2</td>\n      <td>Jumanji (1995)</td>\n      <td>Adventure|Children|Fantasy</td>\n    </tr>\n    <tr>\n      <th>2</th>\n      <td>3</td>\n      <td>Grumpier Old Men (1995)</td>\n      <td>Comedy|Romance</td>\n    </tr>\n    <tr>\n      <th>3</th>\n      <td>4</td>\n      <td>Waiting to Exhale (1995)</td>\n      <td>Comedy|Drama|Romance</td>\n    </tr>\n    <tr>\n      <th>4</th>\n      <td>5</td>\n      <td>Father of the Bride Part II (1995)</td>\n      <td>Comedy</td>\n    </tr>\n  </tbody>\n</table>\n</div>"
     },
     "execution_count": 119,
     "metadata": {},
     "output_type": "execute_result"
    }
   ],
   "source": [
    "# lets read movies.csv file\n",
    "movie = pd.read_csv('./ml-latest-small/movies.csv')\n",
    "\n",
    "movie.head()"
   ]
  },
  {
   "cell_type": "markdown",
   "metadata": {},
   "source": [
    "# Q1 (.25 point) Check if any of the columns are null"
   ]
  },
  {
   "cell_type": "code",
   "execution_count": 120,
   "metadata": {},
   "outputs": [
    {
     "name": "stdout",
     "output_type": "stream",
     "text": [
      "movieId    0\n",
      "title      0\n",
      "genres     0\n",
      "dtype: int64\n"
     ]
    }
   ],
   "source": [
    "# write pandas code here\n",
    "print(movie.isnull().sum())"
   ]
  },
  {
   "cell_type": "markdown",
   "metadata": {},
   "source": [
    "# Q 2 (.25 point) Check datatype of each of the columns"
   ]
  },
  {
   "cell_type": "code",
   "execution_count": 121,
   "metadata": {},
   "outputs": [
    {
     "data": {
      "text/plain": "movieId     int64\ntitle      object\ngenres     object\ndtype: object"
     },
     "execution_count": 121,
     "metadata": {},
     "output_type": "execute_result"
    }
   ],
   "source": [
    "movie.dtypes"
   ]
  },
  {
   "cell_type": "markdown",
   "metadata": {},
   "source": [
    "# Q3 (.5 point) Using *str* on series genres, build following  unique_genre set. It should contain all the unique genres from genres column. Print unique genres too.\n",
    "\n"
   ]
  },
  {
   "cell_type": "code",
   "execution_count": 122,
   "metadata": {},
   "outputs": [
    {
     "data": {
      "text/plain": "{'(no genres listed)',\n 'Action',\n 'Adventure',\n 'Animation',\n 'Children',\n 'Comedy',\n 'Crime',\n 'Documentary',\n 'Drama',\n 'Fantasy',\n 'Film-Noir',\n 'Horror',\n 'IMAX',\n 'Musical',\n 'Mystery',\n 'Romance',\n 'Sci-Fi',\n 'Thriller',\n 'War',\n 'Western'}"
     },
     "execution_count": 122,
     "metadata": {},
     "output_type": "execute_result"
    }
   ],
   "source": [
    "# write pandas code here\n",
    "unique_genre = set([g for row in movie[\"genres\"].str.split(\"|\").tolist() for g in row])\n",
    "unique_genre"
   ]
  },
  {
   "cell_type": "markdown",
   "metadata": {},
   "source": [
    "# Q 4 (1 point) Build columns for different genres with value True or False based on whether a genre is present or not in an observation?\n",
    "\n"
   ]
  },
  {
   "cell_type": "code",
   "execution_count": 123,
   "metadata": {},
   "outputs": [
    {
     "name": "stderr",
     "output_type": "stream",
     "text": [
      "C:\\Users\\benja\\AppData\\Local\\Temp/ipykernel_2936/3093493409.py:3: UserWarning: This pattern has match groups. To actually get the groups, use str.extract.\n",
      "  movie[g] = movie[\"genres\"].str.contains(g)\n"
     ]
    },
    {
     "data": {
      "text/plain": "   movieId                               title  \\\n0        1                    Toy Story (1995)   \n1        2                      Jumanji (1995)   \n2        3             Grumpier Old Men (1995)   \n3        4            Waiting to Exhale (1995)   \n4        5  Father of the Bride Part II (1995)   \n\n                                        genres  Mystery  Comedy  Thriller  \\\n0  Adventure|Animation|Children|Comedy|Fantasy    False    True     False   \n1                   Adventure|Children|Fantasy    False   False     False   \n2                               Comedy|Romance    False    True     False   \n3                         Comedy|Drama|Romance    False    True     False   \n4                                       Comedy    False    True     False   \n\n   Crime  Western   IMAX  Animation  ...  Sci-Fi  Documentary  Romance    War  \\\n0  False    False  False       True  ...   False        False    False  False   \n1  False    False  False      False  ...   False        False    False  False   \n2  False    False  False      False  ...   False        False     True  False   \n3  False    False  False      False  ...   False        False     True  False   \n4  False    False  False      False  ...   False        False    False  False   \n\n   Children  (no genres listed)  Musical  Adventure  Fantasy  Film-Noir  \n0      True               False    False       True     True      False  \n1      True               False    False       True     True      False  \n2     False               False    False      False    False      False  \n3     False               False    False      False    False      False  \n4     False               False    False      False    False      False  \n\n[5 rows x 23 columns]",
      "text/html": "<div>\n<style scoped>\n    .dataframe tbody tr th:only-of-type {\n        vertical-align: middle;\n    }\n\n    .dataframe tbody tr th {\n        vertical-align: top;\n    }\n\n    .dataframe thead th {\n        text-align: right;\n    }\n</style>\n<table border=\"1\" class=\"dataframe\">\n  <thead>\n    <tr style=\"text-align: right;\">\n      <th></th>\n      <th>movieId</th>\n      <th>title</th>\n      <th>genres</th>\n      <th>Mystery</th>\n      <th>Comedy</th>\n      <th>Thriller</th>\n      <th>Crime</th>\n      <th>Western</th>\n      <th>IMAX</th>\n      <th>Animation</th>\n      <th>...</th>\n      <th>Sci-Fi</th>\n      <th>Documentary</th>\n      <th>Romance</th>\n      <th>War</th>\n      <th>Children</th>\n      <th>(no genres listed)</th>\n      <th>Musical</th>\n      <th>Adventure</th>\n      <th>Fantasy</th>\n      <th>Film-Noir</th>\n    </tr>\n  </thead>\n  <tbody>\n    <tr>\n      <th>0</th>\n      <td>1</td>\n      <td>Toy Story (1995)</td>\n      <td>Adventure|Animation|Children|Comedy|Fantasy</td>\n      <td>False</td>\n      <td>True</td>\n      <td>False</td>\n      <td>False</td>\n      <td>False</td>\n      <td>False</td>\n      <td>True</td>\n      <td>...</td>\n      <td>False</td>\n      <td>False</td>\n      <td>False</td>\n      <td>False</td>\n      <td>True</td>\n      <td>False</td>\n      <td>False</td>\n      <td>True</td>\n      <td>True</td>\n      <td>False</td>\n    </tr>\n    <tr>\n      <th>1</th>\n      <td>2</td>\n      <td>Jumanji (1995)</td>\n      <td>Adventure|Children|Fantasy</td>\n      <td>False</td>\n      <td>False</td>\n      <td>False</td>\n      <td>False</td>\n      <td>False</td>\n      <td>False</td>\n      <td>False</td>\n      <td>...</td>\n      <td>False</td>\n      <td>False</td>\n      <td>False</td>\n      <td>False</td>\n      <td>True</td>\n      <td>False</td>\n      <td>False</td>\n      <td>True</td>\n      <td>True</td>\n      <td>False</td>\n    </tr>\n    <tr>\n      <th>2</th>\n      <td>3</td>\n      <td>Grumpier Old Men (1995)</td>\n      <td>Comedy|Romance</td>\n      <td>False</td>\n      <td>True</td>\n      <td>False</td>\n      <td>False</td>\n      <td>False</td>\n      <td>False</td>\n      <td>False</td>\n      <td>...</td>\n      <td>False</td>\n      <td>False</td>\n      <td>True</td>\n      <td>False</td>\n      <td>False</td>\n      <td>False</td>\n      <td>False</td>\n      <td>False</td>\n      <td>False</td>\n      <td>False</td>\n    </tr>\n    <tr>\n      <th>3</th>\n      <td>4</td>\n      <td>Waiting to Exhale (1995)</td>\n      <td>Comedy|Drama|Romance</td>\n      <td>False</td>\n      <td>True</td>\n      <td>False</td>\n      <td>False</td>\n      <td>False</td>\n      <td>False</td>\n      <td>False</td>\n      <td>...</td>\n      <td>False</td>\n      <td>False</td>\n      <td>True</td>\n      <td>False</td>\n      <td>False</td>\n      <td>False</td>\n      <td>False</td>\n      <td>False</td>\n      <td>False</td>\n      <td>False</td>\n    </tr>\n    <tr>\n      <th>4</th>\n      <td>5</td>\n      <td>Father of the Bride Part II (1995)</td>\n      <td>Comedy</td>\n      <td>False</td>\n      <td>True</td>\n      <td>False</td>\n      <td>False</td>\n      <td>False</td>\n      <td>False</td>\n      <td>False</td>\n      <td>...</td>\n      <td>False</td>\n      <td>False</td>\n      <td>False</td>\n      <td>False</td>\n      <td>False</td>\n      <td>False</td>\n      <td>False</td>\n      <td>False</td>\n      <td>False</td>\n      <td>False</td>\n    </tr>\n  </tbody>\n</table>\n<p>5 rows × 23 columns</p>\n</div>"
     },
     "execution_count": 123,
     "metadata": {},
     "output_type": "execute_result"
    }
   ],
   "source": [
    "# write pandas code here\n",
    "for g in unique_genre:\n",
    "    movie[g] = movie[\"genres\"].str.contains(g)\n",
    "movie.head()"
   ]
  },
  {
   "cell_type": "markdown",
   "metadata": {},
   "source": [
    "# Q5(1 point) Build a \"year\" column in movie data frame. The title \"year\" should be embedded in title columns."
   ]
  },
  {
   "cell_type": "markdown",
   "metadata": {},
   "source": [
    "Python regular expression  package **re** is very useful tool for text data handling.  This excercise is a very primitive use of it.\n",
    "\n",
    "\n",
    "note\n",
    "- . mean any character\n",
    "- *. means \"0 or more instances of the preceding regex token\n",
    "- \\[ matches a literal [ character\n",
    "- [A-Za-z0-9] digits and lower, upper case, I think same as \\w+\n",
    "- '+' matches one more more times\n",
    "- \\d Matches any decimal digit"
   ]
  },
  {
   "cell_type": "code",
   "execution_count": 124,
   "metadata": {},
   "outputs": [
    {
     "data": {
      "text/plain": "                                                  title  year\n1554                  Return from Witch Mountain (1978)  1978\n5323             Alice Doesn't Live Here Anymore (1974)  1974\n1747                               Runaway Train (1985)  1985\n928                  Once Upon a Time in America (1984)  1984\n6632                Futurama: Bender's Big Score (2007)  2007\n7919                                One Man Band (2005)  2005\n7417                               Eat Pray Love (2010)  2010\n2860                                  Hollow Man (2000)  2000\n9680                                 Patti Rocks (1988)  1988\n9467                                 100 Streets (2016)  2016\n4246          Open Hearts (Elsker dig for evigt) (2002)  2002\n5751                        Upside of Anger, The (2005)  2005\n459                                         Rudy (1993)  1993\n724                                 Lost Horizon (1937)  1937\n7158  Burma VJ: Reporting from a Closed Country (Bur...  2008\n4568                     All the President's Men (1976)  1976\n8461                               Honey (Miele) (2013)  2013\n3968                             Spaced Invaders (1990)  1990\n6039                                      Saw II (2005)  2005\n1115                                    SubUrbia (1997)  1997\n6449                      Black Book (Zwartboek) (2006)  2006\n2839                               In Crowd, The (2000)  2000\n4648  Master and Commander: The Far Side of the Worl...  2003\n1649                                    Lifeboat (1944)  1944\n4650                              Big Empty, The (2003)  2003\n6265                                     Step Up (2006)  2006\n1699         Fiendish Plot of Dr. Fu Manchu, The (1980)  1980\n6480                               Away from Her (2006)  2006\n1942                         Out-of-Towners, The (1999)  1999\n7307                                  Date Night (2010)  2010",
      "text/html": "<div>\n<style scoped>\n    .dataframe tbody tr th:only-of-type {\n        vertical-align: middle;\n    }\n\n    .dataframe tbody tr th {\n        vertical-align: top;\n    }\n\n    .dataframe thead th {\n        text-align: right;\n    }\n</style>\n<table border=\"1\" class=\"dataframe\">\n  <thead>\n    <tr style=\"text-align: right;\">\n      <th></th>\n      <th>title</th>\n      <th>year</th>\n    </tr>\n  </thead>\n  <tbody>\n    <tr>\n      <th>1554</th>\n      <td>Return from Witch Mountain (1978)</td>\n      <td>1978</td>\n    </tr>\n    <tr>\n      <th>5323</th>\n      <td>Alice Doesn't Live Here Anymore (1974)</td>\n      <td>1974</td>\n    </tr>\n    <tr>\n      <th>1747</th>\n      <td>Runaway Train (1985)</td>\n      <td>1985</td>\n    </tr>\n    <tr>\n      <th>928</th>\n      <td>Once Upon a Time in America (1984)</td>\n      <td>1984</td>\n    </tr>\n    <tr>\n      <th>6632</th>\n      <td>Futurama: Bender's Big Score (2007)</td>\n      <td>2007</td>\n    </tr>\n    <tr>\n      <th>7919</th>\n      <td>One Man Band (2005)</td>\n      <td>2005</td>\n    </tr>\n    <tr>\n      <th>7417</th>\n      <td>Eat Pray Love (2010)</td>\n      <td>2010</td>\n    </tr>\n    <tr>\n      <th>2860</th>\n      <td>Hollow Man (2000)</td>\n      <td>2000</td>\n    </tr>\n    <tr>\n      <th>9680</th>\n      <td>Patti Rocks (1988)</td>\n      <td>1988</td>\n    </tr>\n    <tr>\n      <th>9467</th>\n      <td>100 Streets (2016)</td>\n      <td>2016</td>\n    </tr>\n    <tr>\n      <th>4246</th>\n      <td>Open Hearts (Elsker dig for evigt) (2002)</td>\n      <td>2002</td>\n    </tr>\n    <tr>\n      <th>5751</th>\n      <td>Upside of Anger, The (2005)</td>\n      <td>2005</td>\n    </tr>\n    <tr>\n      <th>459</th>\n      <td>Rudy (1993)</td>\n      <td>1993</td>\n    </tr>\n    <tr>\n      <th>724</th>\n      <td>Lost Horizon (1937)</td>\n      <td>1937</td>\n    </tr>\n    <tr>\n      <th>7158</th>\n      <td>Burma VJ: Reporting from a Closed Country (Bur...</td>\n      <td>2008</td>\n    </tr>\n    <tr>\n      <th>4568</th>\n      <td>All the President's Men (1976)</td>\n      <td>1976</td>\n    </tr>\n    <tr>\n      <th>8461</th>\n      <td>Honey (Miele) (2013)</td>\n      <td>2013</td>\n    </tr>\n    <tr>\n      <th>3968</th>\n      <td>Spaced Invaders (1990)</td>\n      <td>1990</td>\n    </tr>\n    <tr>\n      <th>6039</th>\n      <td>Saw II (2005)</td>\n      <td>2005</td>\n    </tr>\n    <tr>\n      <th>1115</th>\n      <td>SubUrbia (1997)</td>\n      <td>1997</td>\n    </tr>\n    <tr>\n      <th>6449</th>\n      <td>Black Book (Zwartboek) (2006)</td>\n      <td>2006</td>\n    </tr>\n    <tr>\n      <th>2839</th>\n      <td>In Crowd, The (2000)</td>\n      <td>2000</td>\n    </tr>\n    <tr>\n      <th>4648</th>\n      <td>Master and Commander: The Far Side of the Worl...</td>\n      <td>2003</td>\n    </tr>\n    <tr>\n      <th>1649</th>\n      <td>Lifeboat (1944)</td>\n      <td>1944</td>\n    </tr>\n    <tr>\n      <th>4650</th>\n      <td>Big Empty, The (2003)</td>\n      <td>2003</td>\n    </tr>\n    <tr>\n      <th>6265</th>\n      <td>Step Up (2006)</td>\n      <td>2006</td>\n    </tr>\n    <tr>\n      <th>1699</th>\n      <td>Fiendish Plot of Dr. Fu Manchu, The (1980)</td>\n      <td>1980</td>\n    </tr>\n    <tr>\n      <th>6480</th>\n      <td>Away from Her (2006)</td>\n      <td>2006</td>\n    </tr>\n    <tr>\n      <th>1942</th>\n      <td>Out-of-Towners, The (1999)</td>\n      <td>1999</td>\n    </tr>\n    <tr>\n      <th>7307</th>\n      <td>Date Night (2010)</td>\n      <td>2010</td>\n    </tr>\n  </tbody>\n</table>\n</div>"
     },
     "execution_count": 124,
     "metadata": {},
     "output_type": "execute_result"
    }
   ],
   "source": [
    "# write pandas code here\n",
    "year_re = \"\\.*\\((\\d{4})\\.*\"\n",
    "movie[\"year\"] = movie[\"title\"].str.extract(year_re)\n",
    "# treat 0 as na\n",
    "movie[\"year\"].fillna(\"0\", inplace=True)\n",
    "movie[\"year\"] = movie[\"year\"].apply(int)\n",
    "movie.sample(30)[[\"title\",\"year\"]]\n",
    "# movie[movie[\"year\"].isna()][\"title\"]"
   ]
  },
  {
   "cell_type": "markdown",
   "metadata": {},
   "source": [
    "# Q6.(.5 point) Using seaborn, plot a bar plot of average number of movies per year. Do you see any trend?"
   ]
  },
  {
   "cell_type": "code",
   "execution_count": 125,
   "metadata": {},
   "outputs": [
    {
     "data": {
      "text/plain": "<Figure size 432x288 with 1 Axes>",
      "image/png": "[encoded data removed]"
     },
     "metadata": {
      "needs_background": "light"
     },
     "output_type": "display_data"
    }
   ],
   "source": [
    "# write code here.\n",
    "import seaborn as sns\n",
    "import matplotlib.pyplot as plt\n",
    "movie_counts = pd.DataFrame(movie[movie[\"year\"]>0].groupby([\"year\"])[\"movieId\"].count())\n",
    "movie_counts = movie_counts.rename(columns={\"movieId\":\"count\"})\n",
    "movie_counts = movie_counts.reset_index()\n",
    "movie_counts.columns\n",
    "movie_counts\n",
    "sns.barplot(x=\"year\", y=\"count\", data=movie_counts)\n",
    "plt.title(\"Number of Movies per Year\")\n",
    "plt.locator_params(axis=\"x\", nbins=10)\n",
    "#plt.xticks(range(movie[\"year\"].min(), movie[\"year\"].max(),10))\n",
    "# movie_counts[\"year\"].min()"
   ]
  },
  {
   "cell_type": "markdown",
   "source": [
    "there was a rapid increase in the number of movies per year around 1980, but that has reversed after 2001. The decrease is slower than the increase."
   ],
   "metadata": {
    "collapsed": false,
    "pycharm": {
     "name": "#%% md\n"
    }
   }
  },
  {
   "cell_type": "markdown",
   "source": [],
   "metadata": {
    "collapsed": false,
    "pycharm": {
     "name": "#%% md\n"
    }
   }
  },
  {
   "cell_type": "markdown",
   "metadata": {},
   "source": [
    "# Q7.(1 point) Using matplotlib, plot total number of movies (cumulative over all the years) for each genre.  Your plot should have proper title, axis labels and legends. "
   ]
  },
  {
   "cell_type": "code",
   "execution_count": 126,
   "outputs": [
    {
     "data": {
      "text/plain": "<Figure size 432x288 with 1 Axes>",
      "image/png": "[encoded data removed]"
     },
     "metadata": {
      "needs_background": "light"
     },
     "output_type": "display_data"
    }
   ],
   "source": [
    "count_by_genre = pd.DataFrame(movie[list(unique_genre)].sum())\n",
    "count_by_genre.columns=[\"count\"]\n",
    "count_by_genre = count_by_genre.sort_values(by=\"count\")\n",
    "plt.barh(count_by_genre.index, count_by_genre[\"count\"])\n",
    "plt.xlabel(\"number of movies\")\n",
    "plt.title(\"Total number of movies by genre\")\n",
    "plt.show()"
   ],
   "metadata": {
    "collapsed": false,
    "pycharm": {
     "name": "#%%\n"
    }
   }
  },
  {
   "cell_type": "markdown",
   "metadata": {
    "pycharm": {
     "name": "#%% md\n"
    }
   },
   "source": []
  },
  {
   "cell_type": "markdown",
   "metadata": {},
   "source": [
    "# Q 8 (.5 point) Build a *movie_title* column containing  the title of the movie. (It should not contain year). Drop the original *title* columns. Display final movie dataFrame."
   ]
  },
  {
   "cell_type": "code",
   "execution_count": 128,
   "metadata": {},
   "outputs": [
    {
     "data": {
      "text/plain": "      movieId                                 genres  Mystery  Comedy  \\\n19         20     Action|Comedy|Crime|Drama|Thriller    False    True   \n6281    47721                       Children|Fantasy    False   False   \n8572   116823              Adventure|Sci-Fi|Thriller    False   False   \n9248   155589                     (no genres listed)    False   False   \n4962     7562                           Action|Crime    False   False   \n1387     1902                          Drama|Romance    False   False   \n8433   111659         Action|Adventure|Children|IMAX    False   False   \n8719   126142             Adventure|Children|Fantasy    False   False   \n5058     7926         Crime|Drama|Film-Noir|Thriller    False   False   \n2262     3003               Comedy|Drama|Romance|War    False    True   \n4884     7317                       Adventure|Comedy    False    True   \n1161     1537                   Comedy|Drama|Romance    False    True   \n542       639                           Comedy|Drama    False    True   \n6544    54745                           Comedy|Drama    False    True   \n3342     4526                  Comedy|Romance|Sci-Fi    False    True   \n6422    51255            Action|Comedy|Crime|Mystery     True    True   \n563       680  Drama|Mystery|Romance|Sci-Fi|Thriller     True   False   \n1716     2306                                 Comedy    False    True   \n867      1147                            Documentary    False   False   \n265       305                                 Comedy    False    True   \n\n      Thriller  Crime  Western   IMAX  Animation  Drama  ...  Romance    War  \\\n19        True   True    False  False      False   True  ...    False  False   \n6281     False  False    False  False      False  False  ...    False  False   \n8572      True  False    False  False      False  False  ...    False  False   \n9248     False  False    False  False      False  False  ...    False  False   \n4962     False   True    False  False      False  False  ...    False  False   \n1387     False  False    False  False      False   True  ...     True  False   \n8433     False  False    False   True      False  False  ...    False  False   \n8719     False  False    False  False      False  False  ...    False  False   \n5058      True   True    False  False      False   True  ...    False  False   \n2262     False  False    False  False      False   True  ...     True   True   \n4884     False  False    False  False      False  False  ...    False  False   \n1161     False  False    False  False      False   True  ...     True  False   \n542      False  False    False  False      False   True  ...    False  False   \n6544     False  False    False  False      False   True  ...    False  False   \n3342     False  False    False  False      False  False  ...     True  False   \n6422     False   True    False  False      False  False  ...    False  False   \n563       True  False    False  False      False   True  ...     True  False   \n1716     False  False    False  False      False  False  ...    False  False   \n867      False  False    False  False      False  False  ...    False  False   \n265      False  False    False  False      False  False  ...    False  False   \n\n      Children  (no genres listed)  Musical  Adventure  Fantasy  Film-Noir  \\\n19       False               False    False      False    False      False   \n6281      True               False    False      False     True      False   \n8572     False               False    False       True    False      False   \n9248     False                True    False      False    False      False   \n4962     False               False    False      False    False      False   \n1387     False               False    False      False    False      False   \n8433      True               False    False       True    False      False   \n8719      True               False    False       True     True      False   \n5058     False               False    False      False    False       True   \n2262     False               False    False      False    False      False   \n4884     False               False    False       True    False      False   \n1161     False               False    False      False    False      False   \n542      False               False    False      False    False      False   \n6544     False               False    False      False    False      False   \n3342     False               False    False      False    False      False   \n6422     False               False    False      False    False      False   \n563      False               False    False      False    False      False   \n1716     False               False    False      False    False      False   \n867      False               False    False      False    False      False   \n265      False               False    False      False    False      False   \n\n      year                                        movie_title  \n19    1995                                        Money Train  \n6281  1956                Red Balloon, The (Ballon rouge, Le)  \n8572  2014              The Hunger Games: Mockingjay - Part 1  \n9248  1968                                    Noin 7 veljestä  \n4962  1997                                          Dobermann  \n1387  1996                             Dream for an Insomniac  \n8433  2014                                         Maleficent  \n8719  1991                        The Cave of the Golden Rose  \n5058  1963                   High and Low (Tengoku to jigoku)  \n2262  1998                       Train of Life (Train de vie)  \n4884  2004                                           EuroTrip  \n1161  1996                  Shall We Dance? (Shall We Dansu?)  \n542   1996                                             Girl 6  \n6544  2007                                     Rocket Science  \n3342  1988                          My Stepmother Is an Alien  \n6422  2007                                           Hot Fuzz  \n563   1965  Alphaville (Alphaville, une étrange aventure d...  \n1716  1998                                           Holy Man  \n867   1996                                 When We Were Kings  \n265   1994                      Ready to Wear (Pret-A-Porter)  \n\n[20 rows x 24 columns]",
      "text/html": "<div>\n<style scoped>\n    .dataframe tbody tr th:only-of-type {\n        vertical-align: middle;\n    }\n\n    .dataframe tbody tr th {\n        vertical-align: top;\n    }\n\n    .dataframe thead th {\n        text-align: right;\n    }\n</style>\n<table border=\"1\" class=\"dataframe\">\n  <thead>\n    <tr style=\"text-align: right;\">\n      <th></th>\n      <th>movieId</th>\n      <th>genres</th>\n      <th>Mystery</th>\n      <th>Comedy</th>\n      <th>Thriller</th>\n      <th>Crime</th>\n      <th>Western</th>\n      <th>IMAX</th>\n      <th>Animation</th>\n      <th>Drama</th>\n      <th>...</th>\n      <th>Romance</th>\n      <th>War</th>\n      <th>Children</th>\n      <th>(no genres listed)</th>\n      <th>Musical</th>\n      <th>Adventure</th>\n      <th>Fantasy</th>\n      <th>Film-Noir</th>\n      <th>year</th>\n      <th>movie_title</th>\n    </tr>\n  </thead>\n  <tbody>\n    <tr>\n      <th>19</th>\n      <td>20</td>\n      <td>Action|Comedy|Crime|Drama|Thriller</td>\n      <td>False</td>\n      <td>True</td>\n      <td>True</td>\n      <td>True</td>\n      <td>False</td>\n      <td>False</td>\n      <td>False</td>\n      <td>True</td>\n      <td>...</td>\n      <td>False</td>\n      <td>False</td>\n      <td>False</td>\n      <td>False</td>\n      <td>False</td>\n      <td>False</td>\n      <td>False</td>\n      <td>False</td>\n      <td>1995</td>\n      <td>Money Train</td>\n    </tr>\n    <tr>\n      <th>6281</th>\n      <td>47721</td>\n      <td>Children|Fantasy</td>\n      <td>False</td>\n      <td>False</td>\n      <td>False</td>\n      <td>False</td>\n      <td>False</td>\n      <td>False</td>\n      <td>False</td>\n      <td>False</td>\n      <td>...</td>\n      <td>False</td>\n      <td>False</td>\n      <td>True</td>\n      <td>False</td>\n      <td>False</td>\n      <td>False</td>\n      <td>True</td>\n      <td>False</td>\n      <td>1956</td>\n      <td>Red Balloon, The (Ballon rouge, Le)</td>\n    </tr>\n    <tr>\n      <th>8572</th>\n      <td>116823</td>\n      <td>Adventure|Sci-Fi|Thriller</td>\n      <td>False</td>\n      <td>False</td>\n      <td>True</td>\n      <td>False</td>\n      <td>False</td>\n      <td>False</td>\n      <td>False</td>\n      <td>False</td>\n      <td>...</td>\n      <td>False</td>\n      <td>False</td>\n      <td>False</td>\n      <td>False</td>\n      <td>False</td>\n      <td>True</td>\n      <td>False</td>\n      <td>False</td>\n      <td>2014</td>\n      <td>The Hunger Games: Mockingjay - Part 1</td>\n    </tr>\n    <tr>\n      <th>9248</th>\n      <td>155589</td>\n      <td>(no genres listed)</td>\n      <td>False</td>\n      <td>False</td>\n      <td>False</td>\n      <td>False</td>\n      <td>False</td>\n      <td>False</td>\n      <td>False</td>\n      <td>False</td>\n      <td>...</td>\n      <td>False</td>\n      <td>False</td>\n      <td>False</td>\n      <td>True</td>\n      <td>False</td>\n      <td>False</td>\n      <td>False</td>\n      <td>False</td>\n      <td>1968</td>\n      <td>Noin 7 veljestä</td>\n    </tr>\n    <tr>\n      <th>4962</th>\n      <td>7562</td>\n      <td>Action|Crime</td>\n      <td>False</td>\n      <td>False</td>\n      <td>False</td>\n      <td>True</td>\n      <td>False</td>\n      <td>False</td>\n      <td>False</td>\n      <td>False</td>\n      <td>...</td>\n      <td>False</td>\n      <td>False</td>\n      <td>False</td>\n      <td>False</td>\n      <td>False</td>\n      <td>False</td>\n      <td>False</td>\n      <td>False</td>\n      <td>1997</td>\n      <td>Dobermann</td>\n    </tr>\n    <tr>\n      <th>1387</th>\n      <td>1902</td>\n      <td>Drama|Romance</td>\n      <td>False</td>\n      <td>False</td>\n      <td>False</td>\n      <td>False</td>\n      <td>False</td>\n      <td>False</td>\n      <td>False</td>\n      <td>True</td>\n      <td>...</td>\n      <td>True</td>\n      <td>False</td>\n      <td>False</td>\n      <td>False</td>\n      <td>False</td>\n      <td>False</td>\n      <td>False</td>\n      <td>False</td>\n      <td>1996</td>\n      <td>Dream for an Insomniac</td>\n    </tr>\n    <tr>\n      <th>8433</th>\n      <td>111659</td>\n      <td>Action|Adventure|Children|IMAX</td>\n      <td>False</td>\n      <td>False</td>\n      <td>False</td>\n      <td>False</td>\n      <td>False</td>\n      <td>True</td>\n      <td>False</td>\n      <td>False</td>\n      <td>...</td>\n      <td>False</td>\n      <td>False</td>\n      <td>True</td>\n      <td>False</td>\n      <td>False</td>\n      <td>True</td>\n      <td>False</td>\n      <td>False</td>\n      <td>2014</td>\n      <td>Maleficent</td>\n    </tr>\n    <tr>\n      <th>8719</th>\n      <td>126142</td>\n      <td>Adventure|Children|Fantasy</td>\n      <td>False</td>\n      <td>False</td>\n      <td>False</td>\n      <td>False</td>\n      <td>False</td>\n      <td>False</td>\n      <td>False</td>\n      <td>False</td>\n      <td>...</td>\n      <td>False</td>\n      <td>False</td>\n      <td>True</td>\n      <td>False</td>\n      <td>False</td>\n      <td>True</td>\n      <td>True</td>\n      <td>False</td>\n      <td>1991</td>\n      <td>The Cave of the Golden Rose</td>\n    </tr>\n    <tr>\n      <th>5058</th>\n      <td>7926</td>\n      <td>Crime|Drama|Film-Noir|Thriller</td>\n      <td>False</td>\n      <td>False</td>\n      <td>True</td>\n      <td>True</td>\n      <td>False</td>\n      <td>False</td>\n      <td>False</td>\n      <td>True</td>\n      <td>...</td>\n      <td>False</td>\n      <td>False</td>\n      <td>False</td>\n      <td>False</td>\n      <td>False</td>\n      <td>False</td>\n      <td>False</td>\n      <td>True</td>\n      <td>1963</td>\n      <td>High and Low (Tengoku to jigoku)</td>\n    </tr>\n    <tr>\n      <th>2262</th>\n      <td>3003</td>\n      <td>Comedy|Drama|Romance|War</td>\n      <td>False</td>\n      <td>True</td>\n      <td>False</td>\n      <td>False</td>\n      <td>False</td>\n      <td>False</td>\n      <td>False</td>\n      <td>True</td>\n      <td>...</td>\n      <td>True</td>\n      <td>True</td>\n      <td>False</td>\n      <td>False</td>\n      <td>False</td>\n      <td>False</td>\n      <td>False</td>\n      <td>False</td>\n      <td>1998</td>\n      <td>Train of Life (Train de vie)</td>\n    </tr>\n    <tr>\n      <th>4884</th>\n      <td>7317</td>\n      <td>Adventure|Comedy</td>\n      <td>False</td>\n      <td>True</td>\n      <td>False</td>\n      <td>False</td>\n      <td>False</td>\n      <td>False</td>\n      <td>False</td>\n      <td>False</td>\n      <td>...</td>\n      <td>False</td>\n      <td>False</td>\n      <td>False</td>\n      <td>False</td>\n      <td>False</td>\n      <td>True</td>\n      <td>False</td>\n      <td>False</td>\n      <td>2004</td>\n      <td>EuroTrip</td>\n    </tr>\n    <tr>\n      <th>1161</th>\n      <td>1537</td>\n      <td>Comedy|Drama|Romance</td>\n      <td>False</td>\n      <td>True</td>\n      <td>False</td>\n      <td>False</td>\n      <td>False</td>\n      <td>False</td>\n      <td>False</td>\n      <td>True</td>\n      <td>...</td>\n      <td>True</td>\n      <td>False</td>\n      <td>False</td>\n      <td>False</td>\n      <td>False</td>\n      <td>False</td>\n      <td>False</td>\n      <td>False</td>\n      <td>1996</td>\n      <td>Shall We Dance? (Shall We Dansu?)</td>\n    </tr>\n    <tr>\n      <th>542</th>\n      <td>639</td>\n      <td>Comedy|Drama</td>\n      <td>False</td>\n      <td>True</td>\n      <td>False</td>\n      <td>False</td>\n      <td>False</td>\n      <td>False</td>\n      <td>False</td>\n      <td>True</td>\n      <td>...</td>\n      <td>False</td>\n      <td>False</td>\n      <td>False</td>\n      <td>False</td>\n      <td>False</td>\n      <td>False</td>\n      <td>False</td>\n      <td>False</td>\n      <td>1996</td>\n      <td>Girl 6</td>\n    </tr>\n    <tr>\n      <th>6544</th>\n      <td>54745</td>\n      <td>Comedy|Drama</td>\n      <td>False</td>\n      <td>True</td>\n      <td>False</td>\n      <td>False</td>\n      <td>False</td>\n      <td>False</td>\n      <td>False</td>\n      <td>True</td>\n      <td>...</td>\n      <td>False</td>\n      <td>False</td>\n      <td>False</td>\n      <td>False</td>\n      <td>False</td>\n      <td>False</td>\n      <td>False</td>\n      <td>False</td>\n      <td>2007</td>\n      <td>Rocket Science</td>\n    </tr>\n    <tr>\n      <th>3342</th>\n      <td>4526</td>\n      <td>Comedy|Romance|Sci-Fi</td>\n      <td>False</td>\n      <td>True</td>\n      <td>False</td>\n      <td>False</td>\n      <td>False</td>\n      <td>False</td>\n      <td>False</td>\n      <td>False</td>\n      <td>...</td>\n      <td>True</td>\n      <td>False</td>\n      <td>False</td>\n      <td>False</td>\n      <td>False</td>\n      <td>False</td>\n      <td>False</td>\n      <td>False</td>\n      <td>1988</td>\n      <td>My Stepmother Is an Alien</td>\n    </tr>\n    <tr>\n      <th>6422</th>\n      <td>51255</td>\n      <td>Action|Comedy|Crime|Mystery</td>\n      <td>True</td>\n      <td>True</td>\n      <td>False</td>\n      <td>True</td>\n      <td>False</td>\n      <td>False</td>\n      <td>False</td>\n      <td>False</td>\n      <td>...</td>\n      <td>False</td>\n      <td>False</td>\n      <td>False</td>\n      <td>False</td>\n      <td>False</td>\n      <td>False</td>\n      <td>False</td>\n      <td>False</td>\n      <td>2007</td>\n      <td>Hot Fuzz</td>\n    </tr>\n    <tr>\n      <th>563</th>\n      <td>680</td>\n      <td>Drama|Mystery|Romance|Sci-Fi|Thriller</td>\n      <td>True</td>\n      <td>False</td>\n      <td>True</td>\n      <td>False</td>\n      <td>False</td>\n      <td>False</td>\n      <td>False</td>\n      <td>True</td>\n      <td>...</td>\n      <td>True</td>\n      <td>False</td>\n      <td>False</td>\n      <td>False</td>\n      <td>False</td>\n      <td>False</td>\n      <td>False</td>\n      <td>False</td>\n      <td>1965</td>\n      <td>Alphaville (Alphaville, une étrange aventure d...</td>\n    </tr>\n    <tr>\n      <th>1716</th>\n      <td>2306</td>\n      <td>Comedy</td>\n      <td>False</td>\n      <td>True</td>\n      <td>False</td>\n      <td>False</td>\n      <td>False</td>\n      <td>False</td>\n      <td>False</td>\n      <td>False</td>\n      <td>...</td>\n      <td>False</td>\n      <td>False</td>\n      <td>False</td>\n      <td>False</td>\n      <td>False</td>\n      <td>False</td>\n      <td>False</td>\n      <td>False</td>\n      <td>1998</td>\n      <td>Holy Man</td>\n    </tr>\n    <tr>\n      <th>867</th>\n      <td>1147</td>\n      <td>Documentary</td>\n      <td>False</td>\n      <td>False</td>\n      <td>False</td>\n      <td>False</td>\n      <td>False</td>\n      <td>False</td>\n      <td>False</td>\n      <td>False</td>\n      <td>...</td>\n      <td>False</td>\n      <td>False</td>\n      <td>False</td>\n      <td>False</td>\n      <td>False</td>\n      <td>False</td>\n      <td>False</td>\n      <td>False</td>\n      <td>1996</td>\n      <td>When We Were Kings</td>\n    </tr>\n    <tr>\n      <th>265</th>\n      <td>305</td>\n      <td>Comedy</td>\n      <td>False</td>\n      <td>True</td>\n      <td>False</td>\n      <td>False</td>\n      <td>False</td>\n      <td>False</td>\n      <td>False</td>\n      <td>False</td>\n      <td>...</td>\n      <td>False</td>\n      <td>False</td>\n      <td>False</td>\n      <td>False</td>\n      <td>False</td>\n      <td>False</td>\n      <td>False</td>\n      <td>False</td>\n      <td>1994</td>\n      <td>Ready to Wear (Pret-A-Porter)</td>\n    </tr>\n  </tbody>\n</table>\n<p>20 rows × 24 columns</p>\n</div>"
     },
     "execution_count": 128,
     "metadata": {},
     "output_type": "execute_result"
    }
   ],
   "source": [
    " # write pandas code here\n",
    "import re\n",
    "year_with_paren = \"\\.*\\(\\d*\\)\"\n",
    "def drop_year(title):\n",
    "    new_title = re.sub(year_with_paren, \"\", title)\n",
    "    return new_title.strip()\n",
    "movie[\"movie_title\"] = movie[\"title\"].apply(drop_year)\n",
    "movie_wo_title = movie.drop(\"title\", axis=1)\n",
    "movie_wo_title.sample(20)"
   ]
  },
  {
   "cell_type": "markdown",
   "metadata": {},
   "source": [
    "# Q 9(1 point) Using seaborn, plot average number of words in a movie name over the years in different genres. You may choose to make separate plots for each genre or to make a single color coded plot as a function of years. All plots should have proper title, axis labels and legends. Write your observation in no more than 2 lines."
   ]
  },
  {
   "cell_type": "code",
   "execution_count": 172,
   "metadata": {},
   "outputs": [
    {
     "data": {
      "text/plain": "    movieId                                  genres  Mystery  Comedy  \\\n28       29  Adventure|Drama|Fantasy|Mystery|Sci-Fi     True   False   \n29       30                             Crime|Drama    False   False   \n31       32                 Mystery|Sci-Fi|Thriller     True   False   \n43       47                        Mystery|Thriller     True   False   \n52       58                    Comedy|Drama|Romance    False    True   \n60       68                          Comedy|Romance    False    True   \n72       80                          Children|Drama    False   False   \n74       82                            Comedy|Drama    False    True   \n86       97                             Crime|Drama    False   False   \n94      106                            Comedy|Drama    False    True   \n\n    Thriller  Crime  Western   IMAX  Animation  Drama  ...  wc_Sci-Fi  \\\n28     False  False    False  False      False   True  ...        5.0   \n29     False   True    False  False      False   True  ...        NaN   \n31      True  False    False  False      False  False  ...        2.0   \n43      True  False    False  False      False  False  ...        NaN   \n52     False  False    False  False      False   True  ...        NaN   \n60     False  False    False  False      False  False  ...        NaN   \n72     False  False    False  False      False   True  ...        NaN   \n74     False  False    False  False      False   True  ...        NaN   \n86     False   True    False  False      False   True  ...        NaN   \n94     False  False    False  False      False   True  ...        NaN   \n\n    wc_Documentary  wc_Romance  wc_War  wc_Children  wc_(no genres listed)  \\\n28             NaN         NaN     NaN          NaN                    NaN   \n29             NaN         NaN     NaN          NaN                    NaN   \n31             NaN         NaN     NaN          NaN                    NaN   \n43             NaN         NaN     NaN          NaN                    NaN   \n52             NaN         2.0     NaN          NaN                    NaN   \n60             NaN         2.0     NaN          NaN                    NaN   \n72             NaN         NaN     NaN          3.0                    NaN   \n74             NaN         NaN     NaN          NaN                    NaN   \n86             NaN         NaN     NaN          NaN                    NaN   \n94             NaN         NaN     NaN          NaN                    NaN   \n\n    wc_Musical  wc_Adventure  wc_Fantasy  wc_Film-Noir  \n28         NaN           5.0         5.0           NaN  \n29         NaN           NaN         NaN           NaN  \n31         NaN           NaN         NaN           NaN  \n43         NaN           NaN         NaN           NaN  \n52         NaN           NaN         NaN           NaN  \n60         NaN           NaN         NaN           NaN  \n72         NaN           NaN         NaN           NaN  \n74         NaN           NaN         NaN           NaN  \n86         NaN           NaN         NaN           NaN  \n94         NaN           NaN         NaN           NaN  \n\n[10 rows x 44 columns]",
      "text/html": "<div>\n<style scoped>\n    .dataframe tbody tr th:only-of-type {\n        vertical-align: middle;\n    }\n\n    .dataframe tbody tr th {\n        vertical-align: top;\n    }\n\n    .dataframe thead th {\n        text-align: right;\n    }\n</style>\n<table border=\"1\" class=\"dataframe\">\n  <thead>\n    <tr style=\"text-align: right;\">\n      <th></th>\n      <th>movieId</th>\n      <th>genres</th>\n      <th>Mystery</th>\n      <th>Comedy</th>\n      <th>Thriller</th>\n      <th>Crime</th>\n      <th>Western</th>\n      <th>IMAX</th>\n      <th>Animation</th>\n      <th>Drama</th>\n      <th>...</th>\n      <th>wc_Sci-Fi</th>\n      <th>wc_Documentary</th>\n      <th>wc_Romance</th>\n      <th>wc_War</th>\n      <th>wc_Children</th>\n      <th>wc_(no genres listed)</th>\n      <th>wc_Musical</th>\n      <th>wc_Adventure</th>\n      <th>wc_Fantasy</th>\n      <th>wc_Film-Noir</th>\n    </tr>\n  </thead>\n  <tbody>\n    <tr>\n      <th>28</th>\n      <td>29</td>\n      <td>Adventure|Drama|Fantasy|Mystery|Sci-Fi</td>\n      <td>True</td>\n      <td>False</td>\n      <td>False</td>\n      <td>False</td>\n      <td>False</td>\n      <td>False</td>\n      <td>False</td>\n      <td>True</td>\n      <td>...</td>\n      <td>5.0</td>\n      <td>NaN</td>\n      <td>NaN</td>\n      <td>NaN</td>\n      <td>NaN</td>\n      <td>NaN</td>\n      <td>NaN</td>\n      <td>5.0</td>\n      <td>5.0</td>\n      <td>NaN</td>\n    </tr>\n    <tr>\n      <th>29</th>\n      <td>30</td>\n      <td>Crime|Drama</td>\n      <td>False</td>\n      <td>False</td>\n      <td>False</td>\n      <td>True</td>\n      <td>False</td>\n      <td>False</td>\n      <td>False</td>\n      <td>True</td>\n      <td>...</td>\n      <td>NaN</td>\n      <td>NaN</td>\n      <td>NaN</td>\n      <td>NaN</td>\n      <td>NaN</td>\n      <td>NaN</td>\n      <td>NaN</td>\n      <td>NaN</td>\n      <td>NaN</td>\n      <td>NaN</td>\n    </tr>\n    <tr>\n      <th>31</th>\n      <td>32</td>\n      <td>Mystery|Sci-Fi|Thriller</td>\n      <td>True</td>\n      <td>False</td>\n      <td>True</td>\n      <td>False</td>\n      <td>False</td>\n      <td>False</td>\n      <td>False</td>\n      <td>False</td>\n      <td>...</td>\n      <td>2.0</td>\n      <td>NaN</td>\n      <td>NaN</td>\n      <td>NaN</td>\n      <td>NaN</td>\n      <td>NaN</td>\n      <td>NaN</td>\n      <td>NaN</td>\n      <td>NaN</td>\n      <td>NaN</td>\n    </tr>\n    <tr>\n      <th>43</th>\n      <td>47</td>\n      <td>Mystery|Thriller</td>\n      <td>True</td>\n      <td>False</td>\n      <td>True</td>\n      <td>False</td>\n      <td>False</td>\n      <td>False</td>\n      <td>False</td>\n      <td>False</td>\n      <td>...</td>\n      <td>NaN</td>\n      <td>NaN</td>\n      <td>NaN</td>\n      <td>NaN</td>\n      <td>NaN</td>\n      <td>NaN</td>\n      <td>NaN</td>\n      <td>NaN</td>\n      <td>NaN</td>\n      <td>NaN</td>\n    </tr>\n    <tr>\n      <th>52</th>\n      <td>58</td>\n      <td>Comedy|Drama|Romance</td>\n      <td>False</td>\n      <td>True</td>\n      <td>False</td>\n      <td>False</td>\n      <td>False</td>\n      <td>False</td>\n      <td>False</td>\n      <td>True</td>\n      <td>...</td>\n      <td>NaN</td>\n      <td>NaN</td>\n      <td>2.0</td>\n      <td>NaN</td>\n      <td>NaN</td>\n      <td>NaN</td>\n      <td>NaN</td>\n      <td>NaN</td>\n      <td>NaN</td>\n      <td>NaN</td>\n    </tr>\n    <tr>\n      <th>60</th>\n      <td>68</td>\n      <td>Comedy|Romance</td>\n      <td>False</td>\n      <td>True</td>\n      <td>False</td>\n      <td>False</td>\n      <td>False</td>\n      <td>False</td>\n      <td>False</td>\n      <td>False</td>\n      <td>...</td>\n      <td>NaN</td>\n      <td>NaN</td>\n      <td>2.0</td>\n      <td>NaN</td>\n      <td>NaN</td>\n      <td>NaN</td>\n      <td>NaN</td>\n      <td>NaN</td>\n      <td>NaN</td>\n      <td>NaN</td>\n    </tr>\n    <tr>\n      <th>72</th>\n      <td>80</td>\n      <td>Children|Drama</td>\n      <td>False</td>\n      <td>False</td>\n      <td>False</td>\n      <td>False</td>\n      <td>False</td>\n      <td>False</td>\n      <td>False</td>\n      <td>True</td>\n      <td>...</td>\n      <td>NaN</td>\n      <td>NaN</td>\n      <td>NaN</td>\n      <td>NaN</td>\n      <td>3.0</td>\n      <td>NaN</td>\n      <td>NaN</td>\n      <td>NaN</td>\n      <td>NaN</td>\n      <td>NaN</td>\n    </tr>\n    <tr>\n      <th>74</th>\n      <td>82</td>\n      <td>Comedy|Drama</td>\n      <td>False</td>\n      <td>True</td>\n      <td>False</td>\n      <td>False</td>\n      <td>False</td>\n      <td>False</td>\n      <td>False</td>\n      <td>True</td>\n      <td>...</td>\n      <td>NaN</td>\n      <td>NaN</td>\n      <td>NaN</td>\n      <td>NaN</td>\n      <td>NaN</td>\n      <td>NaN</td>\n      <td>NaN</td>\n      <td>NaN</td>\n      <td>NaN</td>\n      <td>NaN</td>\n    </tr>\n    <tr>\n      <th>86</th>\n      <td>97</td>\n      <td>Crime|Drama</td>\n      <td>False</td>\n      <td>False</td>\n      <td>False</td>\n      <td>True</td>\n      <td>False</td>\n      <td>False</td>\n      <td>False</td>\n      <td>True</td>\n      <td>...</td>\n      <td>NaN</td>\n      <td>NaN</td>\n      <td>NaN</td>\n      <td>NaN</td>\n      <td>NaN</td>\n      <td>NaN</td>\n      <td>NaN</td>\n      <td>NaN</td>\n      <td>NaN</td>\n      <td>NaN</td>\n    </tr>\n    <tr>\n      <th>94</th>\n      <td>106</td>\n      <td>Comedy|Drama</td>\n      <td>False</td>\n      <td>True</td>\n      <td>False</td>\n      <td>False</td>\n      <td>False</td>\n      <td>False</td>\n      <td>False</td>\n      <td>True</td>\n      <td>...</td>\n      <td>NaN</td>\n      <td>NaN</td>\n      <td>NaN</td>\n      <td>NaN</td>\n      <td>NaN</td>\n      <td>NaN</td>\n      <td>NaN</td>\n      <td>NaN</td>\n      <td>NaN</td>\n      <td>NaN</td>\n    </tr>\n  </tbody>\n</table>\n<p>10 rows × 44 columns</p>\n</div>"
     },
     "execution_count": 172,
     "metadata": {},
     "output_type": "execute_result"
    }
   ],
   "source": [
    "# Write your code here.\n",
    "paren_re = \".*(\\(.*\\)).*\"\n",
    "def word_count(title):\n",
    "    # only count words that fall outside a foreign title which appears inside ()'s\n",
    "    m = re.search(paren_re, title)\n",
    "    if m is not None:\n",
    "        g = m.groups()[0]\n",
    "        mod_title = title.replace(g, \"\").strip()\n",
    "    else:\n",
    "        mod_title = title\n",
    "    return len(mod_title.split(\" \"))\n",
    "count_columns = {}\n",
    "for g in list(unique_genre):\n",
    "    col_name = f'wc_{g}'\n",
    "    count_columns[g] = col_name\n",
    "    movie_wo_title[col_name] = movie_wo_title[movie_wo_title[g]][\"movie_title\"].apply(word_count)\n",
    "movie_wo_title[movie_wo_title[\"movie_title\"].str.contains(\"(\", regex=False)].head(10)"
   ]
  },
  {
   "cell_type": "code",
   "execution_count": 200,
   "outputs": [
    {
     "data": {
      "text/plain": "      year   Mystery    Comedy  Thriller     Crime   Western  IMAX  Animation  \\\n1990  1931  2.166667  2.762712  3.000000  2.708333  3.750000   NaN   8.166667   \n1991  1931  2.500000  2.782609  2.727273  2.764706  4.000000   4.0   4.000000   \n1983  1932  5.750000  3.000000  2.153846  3.500000  2.000000   NaN   4.000000   \n1994  1941  2.750000  2.918919  2.542857  2.851852  3.000000   3.0   4.000000   \n1992  1943  3.000000  2.927536  2.593750  2.391304  2.666667   1.0   3.875000   \n...    ...       ...       ...       ...       ...       ...   ...        ...   \n1939  1999  3.000000  2.555556  3.000000  3.000000  2.000000   NaN   2.000000   \n1938  1999  3.000000  2.750000  3.500000  4.000000       NaN   NaN   3.000000   \n1937  1999       NaN  3.666667  3.000000  3.500000       NaN   NaN   6.000000   \n1935  1999  3.000000  3.285714  3.000000       NaN       NaN   NaN        NaN   \n2018  1999  3.000000  2.941176  2.769231  1.500000       NaN   NaN   3.333333   \n\n         Drama    Action  ...    Sci-Fi  Documentary   Romance    War  \\\n1990  2.693548  3.371429  ...  3.588235     3.000000  2.923077  2.625   \n1991  2.730159  3.923077  ...  4.000000     4.250000  2.741935  2.000   \n1983  2.413793  3.000000  ...  3.100000     2.000000  2.142857  3.500   \n1994  2.692982  3.275000  ...  2.454545     4.000000  2.658537  3.000   \n1992  2.641026  2.677419  ...  2.800000     4.333333  2.583333  4.250   \n...        ...       ...  ...       ...          ...       ...    ...   \n1939  3.200000  1.000000  ...       NaN          NaN  2.444444  3.000   \n1938  2.111111  3.500000  ...       NaN          NaN  3.750000  2.000   \n1937  3.083333  3.000000  ...       NaN          NaN  3.000000  2.000   \n1935  3.333333  2.000000  ...  4.000000          NaN  2.666667    NaN   \n2018  2.111111  3.187500  ...  3.461538     3.000000  6.000000    NaN   \n\n      Children  (no genres listed)   Musical  Adventure   Fantasy  Film-Noir  \n1990  3.750000                 3.0  2.333333   4.750000  2.466667        2.0  \n1991  5.142857                 NaN  3.285714   3.944444  4.357143        NaN  \n1983  4.200000                 NaN  2.333333   3.555556  3.285714        NaN  \n1994  2.958333                 NaN  3.333333   2.866667  2.812500        3.0  \n1992  3.230769                 4.0  2.600000   3.666667  2.555556        2.5  \n...        ...                 ...       ...        ...       ...        ...  \n1939  2.750000                 NaN  3.500000   3.000000  4.000000        NaN  \n1938  3.000000                 NaN  3.000000   5.000000  3.000000        4.0  \n1937  3.500000                 NaN  4.666667   2.500000  6.000000        4.0  \n1935       NaN                 NaN  3.000000   3.000000  4.000000        NaN  \n2018  3.666667                 NaN       NaN   3.333333  3.714286        NaN  \n\n[101 rows x 21 columns]",
      "text/html": "<div>\n<style scoped>\n    .dataframe tbody tr th:only-of-type {\n        vertical-align: middle;\n    }\n\n    .dataframe tbody tr th {\n        vertical-align: top;\n    }\n\n    .dataframe thead th {\n        text-align: right;\n    }\n</style>\n<table border=\"1\" class=\"dataframe\">\n  <thead>\n    <tr style=\"text-align: right;\">\n      <th></th>\n      <th>year</th>\n      <th>Mystery</th>\n      <th>Comedy</th>\n      <th>Thriller</th>\n      <th>Crime</th>\n      <th>Western</th>\n      <th>IMAX</th>\n      <th>Animation</th>\n      <th>Drama</th>\n      <th>Action</th>\n      <th>...</th>\n      <th>Sci-Fi</th>\n      <th>Documentary</th>\n      <th>Romance</th>\n      <th>War</th>\n      <th>Children</th>\n      <th>(no genres listed)</th>\n      <th>Musical</th>\n      <th>Adventure</th>\n      <th>Fantasy</th>\n      <th>Film-Noir</th>\n    </tr>\n  </thead>\n  <tbody>\n    <tr>\n      <th>1990</th>\n      <td>1931</td>\n      <td>2.166667</td>\n      <td>2.762712</td>\n      <td>3.000000</td>\n      <td>2.708333</td>\n      <td>3.750000</td>\n      <td>NaN</td>\n      <td>8.166667</td>\n      <td>2.693548</td>\n      <td>3.371429</td>\n      <td>...</td>\n      <td>3.588235</td>\n      <td>3.000000</td>\n      <td>2.923077</td>\n      <td>2.625</td>\n      <td>3.750000</td>\n      <td>3.0</td>\n      <td>2.333333</td>\n      <td>4.750000</td>\n      <td>2.466667</td>\n      <td>2.0</td>\n    </tr>\n    <tr>\n      <th>1991</th>\n      <td>1931</td>\n      <td>2.500000</td>\n      <td>2.782609</td>\n      <td>2.727273</td>\n      <td>2.764706</td>\n      <td>4.000000</td>\n      <td>4.0</td>\n      <td>4.000000</td>\n      <td>2.730159</td>\n      <td>3.923077</td>\n      <td>...</td>\n      <td>4.000000</td>\n      <td>4.250000</td>\n      <td>2.741935</td>\n      <td>2.000</td>\n      <td>5.142857</td>\n      <td>NaN</td>\n      <td>3.285714</td>\n      <td>3.944444</td>\n      <td>4.357143</td>\n      <td>NaN</td>\n    </tr>\n    <tr>\n      <th>1983</th>\n      <td>1932</td>\n      <td>5.750000</td>\n      <td>3.000000</td>\n      <td>2.153846</td>\n      <td>3.500000</td>\n      <td>2.000000</td>\n      <td>NaN</td>\n      <td>4.000000</td>\n      <td>2.413793</td>\n      <td>3.000000</td>\n      <td>...</td>\n      <td>3.100000</td>\n      <td>2.000000</td>\n      <td>2.142857</td>\n      <td>3.500</td>\n      <td>4.200000</td>\n      <td>NaN</td>\n      <td>2.333333</td>\n      <td>3.555556</td>\n      <td>3.285714</td>\n      <td>NaN</td>\n    </tr>\n    <tr>\n      <th>1994</th>\n      <td>1941</td>\n      <td>2.750000</td>\n      <td>2.918919</td>\n      <td>2.542857</td>\n      <td>2.851852</td>\n      <td>3.000000</td>\n      <td>3.0</td>\n      <td>4.000000</td>\n      <td>2.692982</td>\n      <td>3.275000</td>\n      <td>...</td>\n      <td>2.454545</td>\n      <td>4.000000</td>\n      <td>2.658537</td>\n      <td>3.000</td>\n      <td>2.958333</td>\n      <td>NaN</td>\n      <td>3.333333</td>\n      <td>2.866667</td>\n      <td>2.812500</td>\n      <td>3.0</td>\n    </tr>\n    <tr>\n      <th>1992</th>\n      <td>1943</td>\n      <td>3.000000</td>\n      <td>2.927536</td>\n      <td>2.593750</td>\n      <td>2.391304</td>\n      <td>2.666667</td>\n      <td>1.0</td>\n      <td>3.875000</td>\n      <td>2.641026</td>\n      <td>2.677419</td>\n      <td>...</td>\n      <td>2.800000</td>\n      <td>4.333333</td>\n      <td>2.583333</td>\n      <td>4.250</td>\n      <td>3.230769</td>\n      <td>4.0</td>\n      <td>2.600000</td>\n      <td>3.666667</td>\n      <td>2.555556</td>\n      <td>2.5</td>\n    </tr>\n    <tr>\n      <th>...</th>\n      <td>...</td>\n      <td>...</td>\n      <td>...</td>\n      <td>...</td>\n      <td>...</td>\n      <td>...</td>\n      <td>...</td>\n      <td>...</td>\n      <td>...</td>\n      <td>...</td>\n      <td>...</td>\n      <td>...</td>\n      <td>...</td>\n      <td>...</td>\n      <td>...</td>\n      <td>...</td>\n      <td>...</td>\n      <td>...</td>\n      <td>...</td>\n      <td>...</td>\n      <td>...</td>\n    </tr>\n    <tr>\n      <th>1939</th>\n      <td>1999</td>\n      <td>3.000000</td>\n      <td>2.555556</td>\n      <td>3.000000</td>\n      <td>3.000000</td>\n      <td>2.000000</td>\n      <td>NaN</td>\n      <td>2.000000</td>\n      <td>3.200000</td>\n      <td>1.000000</td>\n      <td>...</td>\n      <td>NaN</td>\n      <td>NaN</td>\n      <td>2.444444</td>\n      <td>3.000</td>\n      <td>2.750000</td>\n      <td>NaN</td>\n      <td>3.500000</td>\n      <td>3.000000</td>\n      <td>4.000000</td>\n      <td>NaN</td>\n    </tr>\n    <tr>\n      <th>1938</th>\n      <td>1999</td>\n      <td>3.000000</td>\n      <td>2.750000</td>\n      <td>3.500000</td>\n      <td>4.000000</td>\n      <td>NaN</td>\n      <td>NaN</td>\n      <td>3.000000</td>\n      <td>2.111111</td>\n      <td>3.500000</td>\n      <td>...</td>\n      <td>NaN</td>\n      <td>NaN</td>\n      <td>3.750000</td>\n      <td>2.000</td>\n      <td>3.000000</td>\n      <td>NaN</td>\n      <td>3.000000</td>\n      <td>5.000000</td>\n      <td>3.000000</td>\n      <td>4.0</td>\n    </tr>\n    <tr>\n      <th>1937</th>\n      <td>1999</td>\n      <td>NaN</td>\n      <td>3.666667</td>\n      <td>3.000000</td>\n      <td>3.500000</td>\n      <td>NaN</td>\n      <td>NaN</td>\n      <td>6.000000</td>\n      <td>3.083333</td>\n      <td>3.000000</td>\n      <td>...</td>\n      <td>NaN</td>\n      <td>NaN</td>\n      <td>3.000000</td>\n      <td>2.000</td>\n      <td>3.500000</td>\n      <td>NaN</td>\n      <td>4.666667</td>\n      <td>2.500000</td>\n      <td>6.000000</td>\n      <td>4.0</td>\n    </tr>\n    <tr>\n      <th>1935</th>\n      <td>1999</td>\n      <td>3.000000</td>\n      <td>3.285714</td>\n      <td>3.000000</td>\n      <td>NaN</td>\n      <td>NaN</td>\n      <td>NaN</td>\n      <td>NaN</td>\n      <td>3.333333</td>\n      <td>2.000000</td>\n      <td>...</td>\n      <td>4.000000</td>\n      <td>NaN</td>\n      <td>2.666667</td>\n      <td>NaN</td>\n      <td>NaN</td>\n      <td>NaN</td>\n      <td>3.000000</td>\n      <td>3.000000</td>\n      <td>4.000000</td>\n      <td>NaN</td>\n    </tr>\n    <tr>\n      <th>2018</th>\n      <td>1999</td>\n      <td>3.000000</td>\n      <td>2.941176</td>\n      <td>2.769231</td>\n      <td>1.500000</td>\n      <td>NaN</td>\n      <td>NaN</td>\n      <td>3.333333</td>\n      <td>2.111111</td>\n      <td>3.187500</td>\n      <td>...</td>\n      <td>3.461538</td>\n      <td>3.000000</td>\n      <td>6.000000</td>\n      <td>NaN</td>\n      <td>3.666667</td>\n      <td>NaN</td>\n      <td>NaN</td>\n      <td>3.333333</td>\n      <td>3.714286</td>\n      <td>NaN</td>\n    </tr>\n  </tbody>\n</table>\n<p>101 rows × 21 columns</p>\n</div>"
     },
     "execution_count": 200,
     "metadata": {},
     "output_type": "execute_result"
    }
   ],
   "source": [
    "avg_wc_df = pd.DataFrame(movie_wo_title[\"year\"])\n",
    "for g, wc_col in count_columns.items():\n",
    "    avg_wc_df[g] = movie_wo_title[movie_wo_title[g]].groupby([\"year\"])[wc_col].mean()\n",
    "avg_wc_df[avg_wc_df[\"Comedy\"].notna()].sort_values(by=\"year\")"
   ],
   "metadata": {
    "collapsed": false,
    "pycharm": {
     "name": "#%%\n"
    }
   }
  }
 ],
 "metadata": {
  "kernelspec": {
   "display_name": "Python 3 (ipykernel)",
   "language": "python",
   "name": "python3"
  },
  "language_info": {
   "codemirror_mode": {
    "name": "ipython",
    "version": 3
   },
   "file_extension": ".py",
   "mimetype": "text/x-python",
   "name": "python",
   "nbconvert_exporter": "python",
   "pygments_lexer": "ipython3",
   "version": "3.10.0"
  },
  "toc": {
   "base_numbering": 1,
   "nav_menu": {},
   "number_sections": false,
   "sideBar": true,
   "skip_h1_title": false,
   "title_cell": "Table of Contents",
   "title_sidebar": "Contents",
   "toc_cell": false,
   "toc_position": {},
   "toc_section_display": true,
   "toc_window_display": false
  },
  "varInspector": {
   "cols": {
    "lenName": 16,
    "lenType": 16,
    "lenVar": 40
   },
   "kernels_config": {
    "python": {
     "delete_cmd_postfix": "",
     "delete_cmd_prefix": "del ",
     "library": "var_list.py",
     "varRefreshCmd": "print(var_dic_list())"
    },
    "r": {
     "delete_cmd_postfix": ") ",
     "delete_cmd_prefix": "rm(",
     "library": "var_list.r",
     "varRefreshCmd": "cat(var_dic_list()) "
    }
   },
   "types_to_exclude": [
    "module",
    "function",
    "builtin_function_or_method",
    "instance",
    "_Feature"
   ],
   "window_display": false
  }
 },
 "nbformat": 4,
 "nbformat_minor": 2
}