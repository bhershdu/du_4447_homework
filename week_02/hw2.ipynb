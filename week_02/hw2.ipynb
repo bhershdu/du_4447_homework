{
 "cells": [
  {
   "cell_type": "markdown",
   "metadata": {},
   "source": [
    "# HW2 total points 5\n",
    "# Solve following problems. Each problem is worth 1 point. Your answers should be written in one line. Total points 6."
   ]
  },
  {
   "cell_type": "markdown",
   "metadata": {},
   "source": [
    "# Q1(1 point) Remove the blank lines from the customer_record.csv using grep command and regular expression. You may have to read grep documentation to look for more otpions."
   ]
  },
  {
   "cell_type": "markdown",
   "metadata": {},
   "source": [
    "<font size = \"5\" color=\"red\"> Run following cell to create customer_record.csv </font>"
   ]
  },
  {
   "cell_type": "code",
   "execution_count": 27,
   "metadata": {
    "scrolled": true
   },
   "outputs": [],
   "source": [
    "!echo \"customer,items, type, quantity\" > customer_history.csv; echo \"Allen, Statistical analysis, book, 2\" >> customer_history.csv;echo \"\">> customer_history.csv; echo \"Jhon, Kasa Smart Wi-Fi Plug, electronics, 3\" >>customer_history.csv; echo \"Tim,Unix Shell Programming, Book, 3\" >> customer_history.csv; echo \"\">> customer_history.csv; echo \"Allen,Python for Data Analysis, Book, 1\">> customer_history.csv"
   ]
  },
  {
   "cell_type": "code",
   "execution_count": 28,
   "metadata": {
    "scrolled": true
   },
   "outputs": [
    {
     "name": "stdout",
     "output_type": "stream",
     "text": [
      "customer,items, type, quantity\r\n",
      "Allen, Statistical analysis, book, 2\r\n",
      "\r\n",
      "Jhon, Kasa Smart Wi-Fi Plug, electronics, 3\r\n",
      "Tim,Unix Shell Programming, Book, 3\r\n",
      "\r\n",
      "Allen,Python for Data Analysis, Book, 1\r\n"
     ]
    }
   ],
   "source": [
    "! cat customer_history.csv"
   ]
  },
  {
   "cell_type": "code",
   "execution_count": 30,
   "metadata": {
    "scrolled": true
   },
   "outputs": [],
   "source": [
    "# Write code in the next line\n",
    "! cat customer_history.csv | grep -e \"[[:blank:]]\""
   ]
  },
  {
   "cell_type": "markdown",
   "metadata": {},
   "source": [
    "# Q2(1 point)  Use the previous grep command and a combination of commands using pipe(|) to print uniq customer names in capital letters."
   ]
  },
  {
   "cell_type": "code",
   "execution_count": 39,
   "metadata": {
    "scrolled": true
   },
   "outputs": [
    {
     "name": "stdout",
     "output_type": "stream",
     "text": [
      "ALLEN\r\n",
      "JHON\r\n",
      "TIM\r\n"
     ]
    }
   ],
   "source": [
    "# write commands using ! in the next line\n",
    "! cat customer_history.csv | grep -e \"[[:blank:]]\" | cut -d , -f 1 | grep -v customer | sort -u | tr '[:lower:]' \"[:upper:]\""
   ]
  },
  {
   "cell_type": "markdown",
   "metadata": {},
   "source": [
    "# Some other  useful commands we didn't cover in the class are *mkdir, find* and *wc*.\n",
    "# Look for their documentation. Sometime we forget where the files are in the filesystem. The *find* command is really useful for searching files in filesystem. To learn these commands we wil use them in following exercises."
   ]
  },
  {
   "cell_type": "markdown",
   "metadata": {},
   "source": [
    "# Let's make  dataset_zyx_dec_2050/train and dataset_zyx_dec_2050/validation directory and add some files in them. \n",
    "\n",
    "<font color='red' size= 4 >Run the following commands to make  directories and files. </font>"
   ]
  },
  {
   "cell_type": "code",
   "execution_count": 40,
   "metadata": {
    "scrolled": true
   },
   "outputs": [],
   "source": [
    "!mkdir -p dataset_zyx_dec_2050/train\n",
    "!mkdir -p dataset_zyx_dec_2050/validation"
   ]
  },
  {
   "cell_type": "code",
   "execution_count": 41,
   "metadata": {},
   "outputs": [],
   "source": [
    "!for i in $(seq   5); do touch dataset_zyx_dec_2050/validation/cat$i.jpg ;done\n",
    "!for i in $(seq   5); do touch dataset_zyx_dec_2050/validation/cat$i.tfrecord ;done\n",
    "!for i in $(seq   5); do touch dataset_zyx_dec_2050/train/cat$i.jpg ;done\n",
    "!for i in $(seq   5); do touch dataset_zyx_dec_2050/train/dog$i.jpg ;done\n"
   ]
  },
  {
   "cell_type": "markdown",
   "metadata": {},
   "source": [
    "The following command displays the contents of dataset_zyx_dec_2050/validation and dataset_zyx_dec_2050/train:"
   ]
  },
  {
   "cell_type": "code",
   "execution_count": 42,
   "metadata": {},
   "outputs": [
    {
     "name": "stdout",
     "output_type": "stream",
     "text": [
      "cat1.jpg  cat3.jpg  cat5.jpg  dog2.jpg\tdog4.jpg\r\n",
      "cat2.jpg  cat4.jpg  dog1.jpg  dog3.jpg\tdog5.jpg\r\n"
     ]
    }
   ],
   "source": [
    "!ls dataset_zyx_dec_2050/train"
   ]
  },
  {
   "cell_type": "code",
   "execution_count": 43,
   "metadata": {},
   "outputs": [
    {
     "name": "stdout",
     "output_type": "stream",
     "text": [
      "cat1.jpg       cat2.jpg       cat3.jpg\t     cat4.jpg\t    cat5.jpg\r\n",
      "cat1.tfrecord  cat2.tfrecord  cat3.tfrecord  cat4.tfrecord  cat5.tfrecord\r\n"
     ]
    }
   ],
   "source": [
    "!ls dataset_zyx_dec_2050/validation"
   ]
  },
  {
   "cell_type": "markdown",
   "metadata": {},
   "source": [
    "# Q3(1 point) Print all the files starting with the name *cat* in the subfolders of dataset_zyx_dec_2050  using find command."
   ]
  },
  {
   "cell_type": "code",
   "execution_count": 49,
   "metadata": {},
   "outputs": [
    {
     "name": "stdout",
     "output_type": "stream",
     "text": [
      "cat1.jpg\r\n",
      "cat2.jpg\r\n",
      "cat3.jpg\r\n",
      "cat4.jpg\r\n",
      "cat5.jpg\r\n",
      "cat1.jpg\r\n",
      "cat1.tfrecord\r\n",
      "cat2.jpg\r\n",
      "cat2.tfrecord\r\n",
      "cat3.jpg\r\n",
      "cat3.tfrecord\r\n",
      "cat4.jpg\r\n",
      "cat4.tfrecord\r\n",
      "cat5.jpg\r\n",
      "cat5.tfrecord\r\n"
     ]
    }
   ],
   "source": [
    "#write your command in next line\n",
    "# Hint ./use dataset_zyx_dec_2050 and read about -name option in the find command\n",
    "! ls -R ./dataset_zyx_dec_2050 | grep cat"
   ]
  },
  {
   "cell_type": "markdown",
   "metadata": {},
   "source": [
    "# Q4(.5 point) Count number of cat files using pipe and *wc* command."
   ]
  },
  {
   "cell_type": "code",
   "execution_count": 50,
   "metadata": {},
   "outputs": [
    {
     "name": "stdout",
     "output_type": "stream",
     "text": [
      "15\r\n"
     ]
    }
   ],
   "source": [
    "#write your commands in the next line\n",
    "! ls -R ./dataset_zyx_dec_2050 | grep cat | wc -l"
   ]
  },
  {
   "cell_type": "markdown",
   "metadata": {},
   "source": [
    "# Q5(.5) Using answer of Q2, find the total number of unique customers"
   ]
  },
  {
   "cell_type": "code",
   "execution_count": 51,
   "metadata": {},
   "outputs": [
    {
     "name": "stdout",
     "output_type": "stream",
     "text": [
      "3\r\n"
     ]
    }
   ],
   "source": [
    "# write your code in the next line\n",
    "! cat customer_history.csv | grep -e \"[[:blank:]]\" | cut -d , -f 1 | grep -v customer | sort -u | tr '[:lower:]' \"[:upper:]\" | wc -l"
   ]
  },
  {
   "cell_type": "markdown",
   "metadata": {},
   "source": [
    "# Let's say you work for an e-commerce company and you are on call. Due to some recent feature pushed to the production, a severity 1 ticket is raised. The ticket states that some to the customers are charged multiple time this month. Your task is to quickly find the affected customer and manually credit back the amount.\n",
    "\n",
    "<font size=\"4\" color = \"red\"> Run the followoing cell to generate the the  payment_gateway.logxx file </font>"
   ]
  },
  {
   "cell_type": "code",
   "execution_count": 52,
   "metadata": {},
   "outputs": [],
   "source": [
    "%%bash\n",
    "echo \"customer:2150:credit_card:xxxx-xxxx-xxxx:charged:\\$50\n",
    "customer:2350:credit_card:xxxx-xxxx-xxxx:charged:\\$20\n",
    "Paymenet gateway: STATUS 200\n",
    "customer:3456 payment failed\n",
    "customer:3350:credit_card:xxxx-xxxx-xxxx:charged:\\$71\n",
    "customer:4350:credit_card:xxxx-xxxx-xxxx:charged:\\$50\n",
    "customer:2350:credit_card:xxxx-xxxx-xxxx:charged:\\$20\n",
    "ncustomer:2150:credit_card:xxxx-xxxx-xxxx:charged:\\$50\n",
    "customer:3350:credit_card:xxxx-xxxx-xxxx:charged:\\$71\n",
    "customer:2350:credit_card:xxxx-xxxx-xxxx:charged:\\$20\n",
    "customer:2350:credit_card:xxxx-xxxx-xxxx:declined charged:attempt:3\" > payment_gateway.logxx"
   ]
  },
  {
   "cell_type": "code",
   "execution_count": 53,
   "metadata": {},
   "outputs": [
    {
     "name": "stdout",
     "output_type": "stream",
     "text": [
      "customer:2150:credit_card:xxxx-xxxx-xxxx:charged:$50\r\n",
      "customer:2350:credit_card:xxxx-xxxx-xxxx:charged:$20\r\n",
      "Paymenet gateway: STATUS 200\r\n",
      "customer:3456 payment failed\r\n",
      "customer:3350:credit_card:xxxx-xxxx-xxxx:charged:$71\r\n",
      "customer:4350:credit_card:xxxx-xxxx-xxxx:charged:$50\r\n",
      "customer:2350:credit_card:xxxx-xxxx-xxxx:charged:$20\r\n",
      "ncustomer:2150:credit_card:xxxx-xxxx-xxxx:charged:$50\r\n",
      "customer:3350:credit_card:xxxx-xxxx-xxxx:charged:$71\r\n",
      "customer:2350:credit_card:xxxx-xxxx-xxxx:charged:$20\r\n",
      "customer:2350:credit_card:xxxx-xxxx-xxxx:declined charged:attempt:3\r\n"
     ]
    }
   ],
   "source": [
    "# Here is the file contents\n",
    "!cat payment_gateway.logxx"
   ]
  },
  {
   "cell_type": "markdown",
   "metadata": {},
   "source": [
    "# Q6(1 point) Use payment_gateway.logxx file to find the number of times a customer is charged and the line corresponding to the customer  record. Only print lines for customers charged more than one time.\n",
    "\n",
    "Hint:\n",
    "for customer 2350 line output should be\n",
    "\n",
    "3 customer:2350:credit_card:xxxx-xxxx-xxxx:charged:$20\n"
   ]
  },
  {
   "cell_type": "code",
   "execution_count": 92,
   "metadata": {},
   "outputs": [
    {
     "name": "stdout",
     "output_type": "stream",
     "text": [
      "customer 2150 charged 2 times. records on lines  1 8\n",
      "customer 2350 charged 4 times. records on lines  2 7 10 11\n",
      "customer 3350 charged 2 times. records on lines  5 9\n"
     ]
    }
   ],
   "source": [
    "%%bash\n",
    "# Write you commands in the next line\n",
    "for cust in $(grep credit_card payment_gateway.logxx | cut -d : -f 2 | sort -u);do\n",
    "  count=`grep $cust payment_gateway.logxx| wc -l`\n",
    "  if [[ $count -gt 1 ]];then\n",
    "     lines=\"\"\n",
    "     for l in $(grep -n $cust payment_gateway.logxx | cut -d : -f 1);do\n",
    "        lines=\"$lines $l\"\n",
    "     done\n",
    "     echo \"customer $cust charged $count times. records on lines $lines\"\n",
    "\n",
    "  fi\n",
    "done"
   ]
  }
 ],
 "metadata": {
  "kernelspec": {
   "display_name": "Python 3 (ipykernel)",
   "language": "python",
   "name": "python3"
  },
  "language_info": {
   "codemirror_mode": {
    "name": "ipython",
    "version": 3
   },
   "file_extension": ".py",
   "mimetype": "text/x-python",
   "name": "python",
   "nbconvert_exporter": "python",
   "pygments_lexer": "ipython3",
   "version": "3.8.10"
  },
  "toc": {
   "base_numbering": 1,
   "nav_menu": {},
   "number_sections": false,
   "sideBar": true,
   "skip_h1_title": false,
   "title_cell": "Table of Contents",
   "title_sidebar": "Contents",
   "toc_cell": false,
   "toc_position": {},
   "toc_section_display": true,
   "toc_window_display": false
  },
  "varInspector": {
   "cols": {
    "lenName": 16,
    "lenType": 16,
    "lenVar": 40
   },
   "kernels_config": {
    "python": {
     "delete_cmd_postfix": "",
     "delete_cmd_prefix": "del ",
     "library": "var_list.py",
     "varRefreshCmd": "print(var_dic_list())"
    },
    "r": {
     "delete_cmd_postfix": ") ",
     "delete_cmd_prefix": "rm(",
     "library": "var_list.r",
     "varRefreshCmd": "cat(var_dic_list()) "
    }
   },
   "types_to_exclude": [
    "module",
    "function",
    "builtin_function_or_method",
    "instance",
    "_Feature"
   ],
   "window_display": false
  }
 },
 "nbformat": 4,
 "nbformat_minor": 2
}
